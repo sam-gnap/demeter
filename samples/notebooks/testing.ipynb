{
 "cells": [
  {
   "cell_type": "code",
   "execution_count": 1,
   "metadata": {},
   "outputs": [],
   "source": [
    "import requests "
   ]
  },
  {
   "cell_type": "code",
   "execution_count": null,
   "metadata": {},
   "outputs": [],
   "source": [
    "url_endpoint = \"https://api.evm.storage/canvas_api.v1.CanvasApiService/Query\"\n",
    "\n",
    "canvas_id = \"4b8e6d82-c44c-4499-bc16-f6bcb990c51e\"\n",
    "\n",
    "api_key = \"sim-api-55704467f63a3fdb\""
   ]
  },
  {
   "cell_type": "code",
   "execution_count": 2,
   "metadata": {},
   "outputs": [],
   "source": [
    "def make_canvas_query(query):\n",
    "    # Prepare the payload\n",
    "    payload = {\n",
    "        \"canvas_id\": canvas_id,\n",
    "        \"query\": query\n",
    "    }\n",
    "\n",
    "    # Prepare headers\n",
    "    headers = {\n",
    "        \"Content-Type\": \"application/json\",\n",
    "        \"X-API-Key\": api_key\n",
    "    }\n",
    "\n",
    "    try:\n",
    "        # Make the POST request\n",
    "        response = requests.post(url_endpoint, json=payload, headers=headers)\n",
    "        \n",
    "        # Check if the request was successful\n",
    "        response.raise_for_status()\n",
    "        \n",
    "        # Return the JSON response\n",
    "        return response.json()\n",
    "    except requests.exceptions.RequestException as e:\n",
    "        print(f\"An error occurred: {e}\")\n",
    "        return None"
   ]
  },
  {
   "cell_type": "code",
   "execution_count": null,
   "metadata": {},
   "outputs": [],
   "source": [
    "xample_query = \"Your query here\"  # Replace with your actual query\n",
    "result = make_canvas_query(example_query)"
   ]
  }
 ],
 "metadata": {
  "kernelspec": {
   "display_name": "demeter_env",
   "language": "python",
   "name": "python3"
  },
  "language_info": {
   "codemirror_mode": {
    "name": "ipython",
    "version": 3
   },
   "file_extension": ".py",
   "mimetype": "text/x-python",
   "name": "python",
   "nbconvert_exporter": "python",
   "pygments_lexer": "ipython3",
   "version": "3.12.4"
  }
 },
 "nbformat": 4,
 "nbformat_minor": 2
}
