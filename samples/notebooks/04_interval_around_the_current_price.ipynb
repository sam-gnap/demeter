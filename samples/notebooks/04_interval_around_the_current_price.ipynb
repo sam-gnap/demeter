{
 "cells": [
  {
   "cell_type": "markdown",
   "metadata": {
    "collapsed": false
   },
   "source": [
    "# Interval Around the Current Price\n",
    "This strategy will provide liquidity around the current price in a fixed interval. We will rebalance our position every update interval as discussed in the beginning of chapter 4. Let pc be the current price and a ∈ [10, 40000], then we will set our position to [pc − a, pc + a] at every update interval.\n",
    "We will fill the interval as much as possible. However, it is usually not possible to use up both tokens, so the remaining token will be left outside the pool."
   ]
  },
  {
   "cell_type": "markdown",
   "metadata": {
    "collapsed": false
   },
   "source": [
    "Import code dependencies"
   ]
  },
  {
   "cell_type": "code",
   "execution_count": 1,
   "metadata": {
    "ExecuteTime": {
     "end_time": "2024-07-22T08:20:54.444182Z",
     "start_time": "2024-07-22T08:20:54.440051Z"
    },
    "collapsed": false
   },
   "outputs": [],
   "source": [
    "from datetime import timedelta, date\n",
    "\n",
    "import pandas as pd\n",
    "\n",
    "from demeter import TokenInfo, Actuator, ChainType, MarketInfo, Strategy, PeriodTrigger, RowData\n",
    "from demeter.result import performance_metrics\n",
    "from demeter.uniswap import UniV3Pool, UniLpMarket"
   ]
  },
  {
   "cell_type": "markdown",
   "metadata": {
    "collapsed": false
   },
   "source": [
    "Set pandas output format"
   ]
  },
  {
   "cell_type": "code",
   "execution_count": 2,
   "metadata": {
    "ExecuteTime": {
     "end_time": "2024-07-22T08:20:54.480846Z",
     "start_time": "2024-07-22T08:20:54.476199Z"
    },
    "collapsed": false
   },
   "outputs": [],
   "source": [
    "pd.options.display.max_columns = None\n",
    "pd.set_option(\"display.width\", 5000)"
   ]
  },
  {
   "cell_type": "markdown",
   "metadata": {
    "collapsed": false
   },
   "source": [
    "Custom Intervals Around the Current Price strategy to add liquidity at constant interval around current price."
   ]
  },
  {
   "cell_type": "code",
   "execution_count": 3,
   "metadata": {
    "ExecuteTime": {
     "end_time": "2024-07-22T08:20:54.491371Z",
     "start_time": "2024-07-22T08:20:54.483867Z"
    },
    "collapsed": false
   },
   "outputs": [],
   "source": [
    "class IntervalsAroundtheCurrentPriceStrategy(Strategy):\n",
    "    def __init__(self, a=10, b=1, update_interval=timedelta(days=1)):\n",
    "        super().__init__()\n",
    "        self.a = a\n",
    "        self.b = b\n",
    "\n",
    "    def initialize(self):\n",
    "        lp_market: UniLpMarket = self.broker.markets[market_key]\n",
    "        current_price = lp_market.market_status.data.price\n",
    "\n",
    "        lp_market.add_liquidity(current_price - self.a, current_price + self.a)\n",
    "        self.triggers.append(PeriodTrigger(time_delta=timedelta(days=1), do=self.work))\n",
    "\n",
    "    def work(self, row_data: RowData):\n",
    "        lp_market: UniLpMarket = self.broker.markets[market_key]\n",
    "        current_price = row_data.prices[eth.name]\n",
    "        if len(lp_market.positions) > 0:\n",
    "            lp_market.remove_all_liquidity()\n",
    "            lp_market.even_rebalance(row_data.prices[eth.name])\n",
    "\n",
    "        lp_market.add_liquidity(current_price - self.a, current_price + self.a)"
   ]
  },
  {
   "cell_type": "markdown",
   "metadata": {
    "collapsed": false
   },
   "source": [
    "Main logic to run Actuator, init two token and market with key \"market1\""
   ]
  },
  {
   "cell_type": "code",
   "execution_count": 4,
   "metadata": {
    "ExecuteTime": {
     "end_time": "2024-07-22T08:20:54.743568Z",
     "start_time": "2024-07-22T08:20:54.493390Z"
    },
    "collapsed": false
   },
   "outputs": [
    {
     "name": "stderr",
     "output_type": "stream",
     "text": [
      "2024-10-05 04:42:29,847 - INFO - start load files from 2023-08-13 to 2023-08-17...\n",
      "2024-10-05 04:42:29,871 - INFO - load file complete, preparing...\n",
      "2024-10-05 04:42:29,949 - INFO - data has been prepared\n"
     ]
    }
   ],
   "source": [
    "usdc = TokenInfo(name=\"usdc\", decimal=6)  # declare  token0\n",
    "eth = TokenInfo(name=\"eth\", decimal=18)  # declare token1\n",
    "pool = UniV3Pool(usdc, eth, 0.05, usdc)  # declare pool\n",
    "market_key = MarketInfo(\"market1\")\n",
    "\n",
    "actuator = Actuator()  # declare actuator\n",
    "broker = actuator.broker\n",
    "market = UniLpMarket(market_key, pool)\n",
    "\n",
    "broker.add_market(market)\n",
    "broker.set_balance(usdc, 1800)\n",
    "broker.set_balance(eth, 1)\n",
    "\n",
    "actuator.strategy = IntervalsAroundtheCurrentPriceStrategy(400, 200)\n",
    "\n",
    "market.data_path = \"../data\"\n",
    "market.load_data(ChainType.polygon.name, \"0x45dda9cb7c25131df268515131f647d726f50608\", date(2023, 8, 13), date(2023, 8, 17))\n",
    "actuator.set_price(market.get_price_from_data())\n",
    "# actuator.run()"
   ]
  },
  {
   "cell_type": "markdown",
   "metadata": {
    "collapsed": false
   },
   "source": [
    "Run actuator with evaluators and save result to files"
   ]
  },
  {
   "cell_type": "code",
   "execution_count": 5,
   "metadata": {},
   "outputs": [],
   "source": [
    "from demeter.result import performance_metrics, round_results"
   ]
  },
  {
   "cell_type": "code",
   "execution_count": 6,
   "metadata": {},
   "outputs": [
    {
     "name": "stderr",
     "output_type": "stream",
     "text": [
      "2024-10-05 04:42:30,717 - INFO - Qute token is USDC\n",
      "2024-10-05 04:42:30,718 - INFO - init strategy...\n",
      "2024-10-05 04:42:30,720 - INFO - start main loop...\n",
      "100%|███████████████████████████████████████████████████████████████████████████████████████████████████████████| 7200/7200 [00:00<00:00, 9453.86it/s]\n",
      "2024-10-05 04:42:31,496 - INFO - main loop finished\n",
      "2024-10-05 04:42:31,560 - INFO - Print actuator summary\n",
      "2024-10-05 04:42:31,581 - INFO - Backtesting finished, execute time 0.8645870685577393s\n"
     ]
    },
    {
     "name": "stdout",
     "output_type": "stream",
     "text": [
      "\u001b[7;31mFinal account status                              \u001b[0m\n",
      "\u001b[7;35mToken balance in broker       \u001b[0m\n",
      "\u001b[34mUSDC      \u001b[0m:0                        \u001b[34mETH       \u001b[0m:0.19119515               \n",
      "\u001b[7;35mPosition value in markets     \u001b[0m\n",
      "\u001b[4;33mmarket1(UniLpMarket)\u001b[0m\n",
      "\u001b[34mtoken0    \u001b[0m:USDC                     \u001b[34mtoken1    \u001b[0m:ETH                      \u001b[34mfee(%)    \u001b[0m:0.0500                   \u001b[34mquote token\u001b[0m:USDC                     \n",
      "\u001b[34mpositions \u001b[0m\n",
      "   lower_tick  upper_tick   pending0      pending1        liquidity\n",
      "0      199330      203830  2.8842552  0.0018592073  360893320959320\n",
      "\n",
      "\u001b[34mQuote by: USDC\u001b[0m\n",
      "\u001b[7;31mAccount balance history                           \u001b[0m\n",
      "l1                  net_value tokens              market1                                                                                          price     \n",
      "l2                              USDC        ETH net_value base_uncollected quote_uncollected base_in_position quote_in_position position_count       ETH USDC\n",
      "2023-08-13 00:00:00 3648.1245      0 0.20767831 3264.3092    8.1332488e-08                 0       0.79232169              1800              1 1848.1244    1\n",
      "2023-08-13 00:01:00 3648.1245      0 0.20767831 3264.3092    8.1332488e-08                 0       0.79232169              1800              1 1848.1244    1\n",
      "2023-08-13 00:02:00 3648.1245      0 0.20767831 3264.3092    8.1356201e-08                 0       0.79232169              1800              1 1848.1244    1\n",
      "2023-08-13 00:03:00 3648.1245      0 0.20767831 3264.3092     8.721141e-08                 0       0.79232169              1800              1 1848.1244    1\n",
      "2023-08-13 00:04:00 3648.1246      0 0.20767831 3264.3092    9.8913442e-08                 0       0.79232169              1800              1 1848.1244    1\n",
      "...                       ...    ...        ...       ...              ...               ...              ...               ...            ...       ...  ...\n",
      "2023-08-17 23:55:00 3471.4007      0 0.19119515 3149.6199      0.001857475         2.8799244        1.1135655         1269.4868              1 1682.9967    1\n",
      "2023-08-17 23:56:00  3471.841      0 0.19119515 3149.9958      0.001857475         2.8805136        1.1126859         1270.9673              1 1683.3333    1\n",
      "2023-08-17 23:57:00 3471.8439      0 0.19119515 3149.9988     0.0018592073         2.8805253        1.1126859         1270.9673              1 1683.3333    1\n",
      "2023-08-17 23:58:00 3472.2871      0 0.19119515 3150.3776     0.0018592073         2.8842552        1.1118064          1272.448              1   1683.67    1\n",
      "2023-08-17 23:59:00 3472.2871      0 0.19119515 3150.3776     0.0018592073         2.8842552        1.1118064          1272.448              1   1683.67    1\n",
      "\n",
      "[7200 rows x 11 columns]\n"
     ]
    }
   ],
   "source": [
    "actuator.run()"
   ]
  },
  {
   "cell_type": "code",
   "execution_count": 9,
   "metadata": {},
   "outputs": [
    {
     "ename": "TypeError",
     "evalue": "type Timestamp doesn't define __round__ method",
     "output_type": "error",
     "traceback": [
      "\u001b[0;31m---------------------------------------------------------------------------\u001b[0m",
      "\u001b[0;31mTypeError\u001b[0m                                 Traceback (most recent call last)",
      "Cell \u001b[0;32mIn[9], line 1\u001b[0m\n\u001b[0;32m----> 1\u001b[0m \u001b[38;5;28mprint\u001b[39m({k: \u001b[38;5;28;43mround\u001b[39;49m\u001b[43m(\u001b[49m\u001b[43mv\u001b[49m\u001b[43m,\u001b[49m\u001b[43m \u001b[49m\u001b[38;5;241;43m5\u001b[39;49m\u001b[43m)\u001b[49m \u001b[38;5;28;01mfor\u001b[39;00m k, v \u001b[38;5;129;01min\u001b[39;00m performance_metrics(\n\u001b[1;32m      2\u001b[0m     actuator\u001b[38;5;241m.\u001b[39maccount_status_df[\u001b[38;5;124m\"\u001b[39m\u001b[38;5;124mnet_value\u001b[39m\u001b[38;5;124m\"\u001b[39m], benchmark\u001b[38;5;241m=\u001b[39mactuator\u001b[38;5;241m.\u001b[39maccount_status_df[\u001b[38;5;124m\"\u001b[39m\u001b[38;5;124mprice\u001b[39m\u001b[38;5;124m\"\u001b[39m][\u001b[38;5;124m\"\u001b[39m\u001b[38;5;124mETH\u001b[39m\u001b[38;5;124m\"\u001b[39m]\n\u001b[1;32m      3\u001b[0m )\u001b[38;5;241m.\u001b[39mitems()})\n",
      "\u001b[0;31mTypeError\u001b[0m: type Timestamp doesn't define __round__ method"
     ]
    }
   ],
   "source": [
    "print({k: round(v, 5) for k, v in performance_metrics(\n",
    "    actuator.account_status_df[\"net_value\"], benchmark=actuator.account_status_df[\"price\"][\"ETH\"]\n",
    ").items()})"
   ]
  },
  {
   "cell_type": "code",
   "execution_count": 7,
   "metadata": {
    "ExecuteTime": {
     "end_time": "2024-07-22T08:20:57.784992Z",
     "start_time": "2024-07-22T08:20:54.745112Z"
    },
    "collapsed": false
   },
   "outputs": [
    {
     "ename": "AttributeError",
     "evalue": "'Timestamp' object has no attribute 'items'",
     "output_type": "error",
     "traceback": [
      "\u001b[0;31m---------------------------------------------------------------------------\u001b[0m",
      "\u001b[0;31mAttributeError\u001b[0m                            Traceback (most recent call last)",
      "Cell \u001b[0;32mIn[7], line 1\u001b[0m\n\u001b[0;32m----> 1\u001b[0m \u001b[38;5;28mprint\u001b[39m({k: \u001b[43mround_results\u001b[49m\u001b[43m(\u001b[49m\u001b[43mv\u001b[49m\u001b[43m,\u001b[49m\u001b[43m \u001b[49m\u001b[38;5;241;43m5\u001b[39;49m\u001b[43m)\u001b[49m \u001b[38;5;28;01mfor\u001b[39;00m k, v \u001b[38;5;129;01min\u001b[39;00m performance_metrics(\n\u001b[1;32m      2\u001b[0m     actuator\u001b[38;5;241m.\u001b[39maccount_status_df[\u001b[38;5;124m\"\u001b[39m\u001b[38;5;124mnet_value\u001b[39m\u001b[38;5;124m\"\u001b[39m], benchmark\u001b[38;5;241m=\u001b[39mactuator\u001b[38;5;241m.\u001b[39maccount_status_df[\u001b[38;5;124m\"\u001b[39m\u001b[38;5;124mprice\u001b[39m\u001b[38;5;124m\"\u001b[39m][\u001b[38;5;124m\"\u001b[39m\u001b[38;5;124mETH\u001b[39m\u001b[38;5;124m\"\u001b[39m]\n\u001b[1;32m      3\u001b[0m )\u001b[38;5;241m.\u001b[39mitems()})\n\u001b[1;32m      5\u001b[0m \u001b[38;5;66;03m# actuator.save_result(\u001b[39;00m\n\u001b[1;32m      6\u001b[0m \u001b[38;5;66;03m#     path=\"./result\",  # save path\u001b[39;00m\n\u001b[1;32m      7\u001b[0m \u001b[38;5;66;03m#     account=True,  # save account status list as a csv file\u001b[39;00m\n\u001b[1;32m      8\u001b[0m \u001b[38;5;66;03m#     actions=True,  # save actions as a json file and a pickle file\u001b[39;00m\n\u001b[1;32m      9\u001b[0m \u001b[38;5;66;03m# )\u001b[39;00m\n",
      "File \u001b[0;32m~/Documents/AMM/demeter/demeter/result/metrics/core.py:77\u001b[0m, in \u001b[0;36mround_results\u001b[0;34m(val_dict, decimal)\u001b[0m\n\u001b[1;32m     74\u001b[0m     \u001b[38;5;28;01melse\u001b[39;00m:\n\u001b[1;32m     75\u001b[0m         \u001b[38;5;28;01mreturn\u001b[39;00m v  \u001b[38;5;66;03m# For any other types, return as is\u001b[39;00m\n\u001b[0;32m---> 77\u001b[0m \u001b[38;5;28;01mreturn\u001b[39;00m {k: round_value(v) \u001b[38;5;28;01mfor\u001b[39;00m k, v \u001b[38;5;129;01min\u001b[39;00m \u001b[43mval_dict\u001b[49m\u001b[38;5;241;43m.\u001b[39;49m\u001b[43mitems\u001b[49m()}\n",
      "\u001b[0;31mAttributeError\u001b[0m: 'Timestamp' object has no attribute 'items'"
     ]
    }
   ],
   "source": [
    "\n",
    "print({k: round_results(v, 5) for k, v in performance_metrics(\n",
    "    actuator.account_status_df[\"net_value\"], benchmark=actuator.account_status_df[\"price\"][\"ETH\"]\n",
    ").items()})\n",
    "\n",
    "# actuator.save_result(\n",
    "#     path=\"./result\",  # save path\n",
    "#     account=True,  # save account status list as a csv file\n",
    "#     actions=True,  # save actions as a json file and a pickle file\n",
    "# )"
   ]
  },
  {
   "cell_type": "code",
   "execution_count": null,
   "metadata": {},
   "outputs": [],
   "source": []
  },
  {
   "cell_type": "code",
   "execution_count": null,
   "metadata": {},
   "outputs": [],
   "source": []
  }
 ],
 "metadata": {
  "kernelspec": {
   "display_name": "Python 3",
   "language": "python",
   "name": "python3"
  },
  "language_info": {
   "codemirror_mode": {
    "name": "ipython",
    "version": 3
   },
   "file_extension": ".py",
   "mimetype": "text/x-python",
   "name": "python",
   "nbconvert_exporter": "python",
   "pygments_lexer": "ipython3",
   "version": "3.12.4"
  }
 },
 "nbformat": 4,
 "nbformat_minor": 0
}
