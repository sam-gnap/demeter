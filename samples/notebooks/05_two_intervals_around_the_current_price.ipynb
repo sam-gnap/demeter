{
 "cells": [
  {
   "cell_type": "markdown",
   "metadata": {
    "collapsed": false
   },
   "source": [
    "# Two Intervals Around the Current Price\n",
    "This strategy aims to fix the problem of having leftover liquidity. The first interval is the same as in the interval around the current price strategy 4.4, namely [pc − a, pc + a]. Let b be a paramter and b ∈ [10, 1000], then the second interval will either be [pc, pc +b] or [pc −b, pc], depending on which asset is leftover [4]. This will allow us to use up all our liquidity."
   ]
  },
  {
   "cell_type": "markdown",
   "metadata": {
    "collapsed": false
   },
   "source": [
    "Import code dependencies"
   ]
  },
  {
   "cell_type": "code",
   "execution_count": 1,
   "metadata": {
    "ExecuteTime": {
     "end_time": "2024-07-22T08:22:50.412023Z",
     "start_time": "2024-07-22T08:22:50.407620Z"
    },
    "collapsed": false
   },
   "outputs": [],
   "source": [
    "from typing import List\n",
    "\n",
    "import matplotlib.dates as mdates\n",
    "import pandas as pd\n",
    "from matplotlib.pylab import plt\n",
    "\n",
    "from demeter import MarketInfo\n",
    "from demeter.broker import AccountStatus\n",
    "from demeter.result import performance_metrics"
   ]
  },
  {
   "cell_type": "markdown",
   "metadata": {
    "collapsed": false
   },
   "source": [
    "Set matplotlib to show formatted account status"
   ]
  },
  {
   "cell_type": "code",
   "execution_count": 2,
   "metadata": {
    "ExecuteTime": {
     "end_time": "2024-07-22T08:22:50.457573Z",
     "start_time": "2024-07-22T08:22:50.452104Z"
    },
    "collapsed": false
   },
   "outputs": [],
   "source": [
    "def plotter(account_status_list: List[AccountStatus]):\n",
    "    net_value_ts = [status.net_value for status in account_status_list]\n",
    "    time_ts = [status.timestamp for status in account_status_list]\n",
    "    plt.plot(time_ts, net_value_ts)\n",
    "    plt.show()"
   ]
  },
  {
   "cell_type": "markdown",
   "metadata": {
    "collapsed": false
   },
   "source": [
    "Make plot about price and account value / position net value"
   ]
  },
  {
   "cell_type": "code",
   "execution_count": 3,
   "metadata": {
    "ExecuteTime": {
     "end_time": "2024-07-22T08:22:50.465930Z",
     "start_time": "2024-07-22T08:22:50.459585Z"
    },
    "collapsed": false
   },
   "outputs": [],
   "source": [
    "def plot_position_return_decomposition(account_status: pd.DataFrame, price: pd.Series, market: MarketInfo):\n",
    "    fig, value_ax = plt.subplots()\n",
    "    day = mdates.DayLocator(interval=2)\n",
    "\n",
    "    price_ax = value_ax.twinx()\n",
    "    price_ax.xaxis.set_major_locator(day)\n",
    "    price_ax.xaxis.set_major_formatter(mdates.DateFormatter('%m-%d'))\n",
    "    value_ax.set_xlabel('time')\n",
    "    value_ax.set_ylabel('value', color='g')\n",
    "    price_ax.set_ylabel('price', color='b')\n",
    "\n",
    "    net_value_ts = list(account_status.net_value)\n",
    "    time_ts = list(account_status.index)\n",
    "    price_ts = list(price)\n",
    "\n",
    "    value_in_position = account_status[market.name][\"net_value\"]\n",
    "    value_in_account = account_status[\"tokens\"][\"USDC\"] + account_status[\"tokens\"][\"ETH\"] * price\n",
    "\n",
    "    value_ax.plot(time_ts, net_value_ts, 'g-', label=\"net value\")\n",
    "    value_ax.plot(time_ts, value_in_position, 'r-', label=\"value in get_position\")\n",
    "    value_ax.plot(time_ts, value_in_account, 'b-', label=\"value in broker account\")\n",
    "    price_ax.plot(time_ts, price_ts, 'y-', label=\"price\")\n",
    "    fig.legend()\n",
    "    fig.show()"
   ]
  },
  {
   "cell_type": "markdown",
   "metadata": {
    "collapsed": false
   },
   "source": [
    "Add dependence about run Actuator"
   ]
  },
  {
   "cell_type": "code",
   "execution_count": 4,
   "metadata": {
    "ExecuteTime": {
     "end_time": "2024-07-22T08:22:50.473996Z",
     "start_time": "2024-07-22T08:22:50.469947Z"
    },
    "collapsed": false
   },
   "outputs": [],
   "source": [
    "from datetime import timedelta, date\n",
    "import pandas as pd\n",
    "\n",
    "from demeter import TokenInfo, Actuator, ChainType, MarketInfo, Strategy, PeriodTrigger, RowData\n",
    "from demeter.uniswap import UniV3Pool, UniLpMarket"
   ]
  },
  {
   "cell_type": "markdown",
   "metadata": {
    "collapsed": false
   },
   "source": [
    "Set pandas output format"
   ]
  },
  {
   "cell_type": "code",
   "execution_count": 5,
   "metadata": {
    "ExecuteTime": {
     "end_time": "2024-07-22T08:22:50.479102Z",
     "start_time": "2024-07-22T08:22:50.476026Z"
    },
    "collapsed": false
   },
   "outputs": [],
   "source": [
    "pd.options.display.max_columns = None\n",
    "pd.set_option(\"display.width\", 5000)"
   ]
  },
  {
   "cell_type": "markdown",
   "metadata": {
    "collapsed": false
   },
   "source": [
    "Custom Two Intervals Around the Current Price strategy with code to add liquidity at constant interval around current price."
   ]
  },
  {
   "cell_type": "code",
   "execution_count": 6,
   "metadata": {
    "ExecuteTime": {
     "end_time": "2024-07-22T08:22:50.486861Z",
     "start_time": "2024-07-22T08:22:50.480118Z"
    },
    "collapsed": false
   },
   "outputs": [],
   "source": [
    "class TwoIntervalsAroundtheCurrentPriceStrategy(Strategy):\n",
    "    def __init__(self, a=10, b=1, update_interval=timedelta(days=1)):\n",
    "        super().__init__()\n",
    "        self.a = a\n",
    "        self.b = b\n",
    "\n",
    "    def initialize(self):\n",
    "        lp_market: UniLpMarket = self.broker.markets[market_key]\n",
    "        init_price = lp_market.market_status.data.price\n",
    "\n",
    "        lp_market.add_liquidity(init_price - self.a, init_price + self.a)\n",
    "        if self.broker.assets[market.base_token].balance > 0:\n",
    "            lp_market.add_liquidity(init_price - self.b, init_price)\n",
    "        else:\n",
    "            lp_market.add_liquidity(init_price, init_price + self.b)\n",
    "        self.triggers.append(PeriodTrigger(time_delta=timedelta(days=1), do=self.work))\n",
    "\n",
    "    def work(self, row_data: RowData):\n",
    "        lp_market: UniLpMarket = self.broker.markets[market_key]\n",
    "\n",
    "        if len(lp_market.positions) > 0:\n",
    "            lp_market.remove_all_liquidity()\n",
    "            lp_market.even_rebalance(row_data.prices[eth.name])\n",
    "\n",
    "        if self.broker.assets[market.base_token].balance > 0:\n",
    "            lp_market.add_liquidity(row_data.prices[eth.name] - self.b, row_data.prices[eth.name])\n",
    "        else:\n",
    "            lp_market.add_liquidity(row_data.prices[eth.name], row_data.prices[eth.name] + row_data.prices[eth.name] + self.b)\n"
   ]
  },
  {
   "cell_type": "markdown",
   "metadata": {
    "collapsed": false
   },
   "source": [
    "Main logic to run Actuator, init two token and market with key \"market1\""
   ]
  },
  {
   "cell_type": "code",
   "execution_count": 7,
   "metadata": {
    "ExecuteTime": {
     "end_time": "2024-07-22T08:22:50.751665Z",
     "start_time": "2024-07-22T08:22:50.507679Z"
    },
    "collapsed": false
   },
   "outputs": [
    {
     "name": "stderr",
     "output_type": "stream",
     "text": [
      "2024-10-05 04:45:11,856 - INFO - start load files from 2023-08-13 to 2023-08-17...\n",
      "2024-10-05 04:45:11,897 - INFO - load file complete, preparing...\n",
      "2024-10-05 04:45:11,973 - INFO - data has been prepared\n"
     ]
    }
   ],
   "source": [
    "usdc = TokenInfo(name=\"usdc\", decimal=6)  # declare  token0\n",
    "eth = TokenInfo(name=\"eth\", decimal=18)  # declare token1\n",
    "pool = UniV3Pool(usdc, eth, 0.05, usdc)  # declare pool\n",
    "market_key = MarketInfo(\"market1\")\n",
    "\n",
    "actuator = Actuator()  # declare actuator\n",
    "broker = actuator.broker\n",
    "market = UniLpMarket(market_key, pool)\n",
    "\n",
    "broker.add_market(market)\n",
    "broker.set_balance(usdc, 2000)\n",
    "broker.set_balance(eth, 0)\n",
    "\n",
    "actuator.strategy = TwoIntervalsAroundtheCurrentPriceStrategy(400, 200)\n",
    "\n",
    "market.data_path = \"../data\"\n",
    "market.load_data(ChainType.polygon.name, \"0x45dda9cb7c25131df268515131f647d726f50608\", date(2023, 8, 13), date(2023, 8, 17))\n",
    "actuator.set_price(market.get_price_from_data())\n",
    "# actuator.run()  # run test"
   ]
  },
  {
   "cell_type": "markdown",
   "metadata": {
    "collapsed": false
   },
   "source": [
    "Run actuator with evaluators and save result to files"
   ]
  },
  {
   "cell_type": "code",
   "execution_count": 8,
   "metadata": {
    "ExecuteTime": {
     "end_time": "2024-07-22T08:22:53.389271Z",
     "start_time": "2024-07-22T08:22:50.752703Z"
    },
    "collapsed": false
   },
   "outputs": [
    {
     "name": "stderr",
     "output_type": "stream",
     "text": [
      "2024-10-05 04:45:12,760 - INFO - Qute token is USDC\n",
      "2024-10-05 04:45:12,761 - INFO - init strategy...\n",
      "2024-10-05 04:45:12,763 - INFO - start main loop...\n",
      "100%|███████████████████████████████████████████████████████████████████████████████████████████████████████████| 7200/7200 [00:00<00:00, 9789.19it/s]\n",
      "2024-10-05 04:45:13,513 - INFO - main loop finished\n",
      "2024-10-05 04:45:13,588 - INFO - Print actuator summary\n",
      "2024-10-05 04:45:13,605 - INFO - Backtesting finished, execute time 0.8450901508331299s\n"
     ]
    },
    {
     "name": "stdout",
     "output_type": "stream",
     "text": [
      "\u001b[7;31mFinal account status                              \u001b[0m\n",
      "\u001b[7;35mToken balance in broker       \u001b[0m\n",
      "\u001b[34mUSDC      \u001b[0m:0                        \u001b[34mETH       \u001b[0m:0.54842149               \n",
      "\u001b[7;35mPosition value in markets     \u001b[0m\n",
      "\u001b[4;33mmarket1(UniLpMarket)\u001b[0m\n",
      "\u001b[34mtoken0    \u001b[0m:USDC                     \u001b[34mtoken1    \u001b[0m:ETH                      \u001b[34mfee(%)    \u001b[0m:0.0500                   \u001b[34mquote token\u001b[0m:USDC                     \n",
      "\u001b[34mpositions \u001b[0m\n",
      "   lower_tick  upper_tick   pending0      pending1        liquidity\n",
      "0      201330      202500  3.1950444  0.0020644004  410299414876176\n",
      "\n",
      "\u001b[34mQuote by: USDC\u001b[0m\n",
      "\u001b[7;31mAccount balance history                           \u001b[0m\n",
      "l1                  net_value tokens              market1                                                                                          price     \n",
      "l2                              USDC        ETH net_value base_uncollected quote_uncollected base_in_position quote_in_position position_count       ETH USDC\n",
      "2023-08-13 00:00:00      2000   2000          0         0                0                 0                0                 0              2 1848.1244    1\n",
      "2023-08-13 00:01:00      2000   2000          0         0                0                 0                0                 0              2 1848.1244    1\n",
      "2023-08-13 00:02:00      2000   2000          0         0                0                 0                0                 0              2 1848.1244    1\n",
      "2023-08-13 00:03:00      2000   2000          0         0                0                 0                0                 0              2 1848.1244    1\n",
      "2023-08-13 00:04:00      2000   2000          0         0                0                 0                0                 0              2 1848.1244    1\n",
      "...                       ...    ...        ...       ...              ...               ...              ...               ...            ...       ...  ...\n",
      "2023-08-17 23:55:00 1899.4225      0 0.54842149 976.43093     0.0020624311         3.1901211        0.3473552         385.17208              1 1682.9967    1\n",
      "2023-08-17 23:56:00 1899.7252      0 0.54842149 976.54905     0.0020624311         3.1907909       0.34635517         386.85531              1 1683.3333    1\n",
      "2023-08-17 23:57:00 1899.7285      0 0.54842149 976.55238     0.0020644004         3.1908043       0.34635517         386.85531              1 1683.3333    1\n",
      "2023-08-17 23:58:00 1900.0346      0 0.54842149 976.67376     0.0020644004         3.1950444       0.34535523          388.5387              1   1683.67    1\n",
      "2023-08-17 23:59:00 1900.0346      0 0.54842149 976.67376     0.0020644004         3.1950444       0.34535523          388.5387              1   1683.67    1\n",
      "\n",
      "[7200 rows x 11 columns]\n"
     ]
    },
    {
     "ename": "TypeError",
     "evalue": "type Timestamp doesn't define __round__ method",
     "output_type": "error",
     "traceback": [
      "\u001b[0;31m---------------------------------------------------------------------------\u001b[0m",
      "\u001b[0;31mTypeError\u001b[0m                                 Traceback (most recent call last)",
      "Cell \u001b[0;32mIn[8], line 2\u001b[0m\n\u001b[1;32m      1\u001b[0m actuator\u001b[38;5;241m.\u001b[39mrun()\n\u001b[0;32m----> 2\u001b[0m \u001b[38;5;28mprint\u001b[39m({k: \u001b[38;5;28;43mround\u001b[39;49m\u001b[43m(\u001b[49m\u001b[43mv\u001b[49m\u001b[43m,\u001b[49m\u001b[43m \u001b[49m\u001b[38;5;241;43m5\u001b[39;49m\u001b[43m)\u001b[49m \u001b[38;5;28;01mfor\u001b[39;00m k, v \u001b[38;5;129;01min\u001b[39;00m performance_metrics(\n\u001b[1;32m      3\u001b[0m     actuator\u001b[38;5;241m.\u001b[39maccount_status_df[\u001b[38;5;124m\"\u001b[39m\u001b[38;5;124mnet_value\u001b[39m\u001b[38;5;124m\"\u001b[39m], benchmark\u001b[38;5;241m=\u001b[39mactuator\u001b[38;5;241m.\u001b[39maccount_status_df[\u001b[38;5;124m\"\u001b[39m\u001b[38;5;124mprice\u001b[39m\u001b[38;5;124m\"\u001b[39m][\u001b[38;5;124m\"\u001b[39m\u001b[38;5;124mETH\u001b[39m\u001b[38;5;124m\"\u001b[39m]\n\u001b[1;32m      4\u001b[0m )\u001b[38;5;241m.\u001b[39mitems()})\n\u001b[1;32m      6\u001b[0m actuator\u001b[38;5;241m.\u001b[39msave_result(\n\u001b[1;32m      7\u001b[0m     path\u001b[38;5;241m=\u001b[39m\u001b[38;5;124m\"\u001b[39m\u001b[38;5;124m./result\u001b[39m\u001b[38;5;124m\"\u001b[39m,  \u001b[38;5;66;03m# save path\u001b[39;00m\n\u001b[1;32m      8\u001b[0m     account\u001b[38;5;241m=\u001b[39m\u001b[38;5;28;01mTrue\u001b[39;00m,  \u001b[38;5;66;03m# save account status list as a csv file\u001b[39;00m\n\u001b[1;32m      9\u001b[0m     actions\u001b[38;5;241m=\u001b[39m\u001b[38;5;28;01mTrue\u001b[39;00m,  \u001b[38;5;66;03m# save actions as a json file and a pickle file\u001b[39;00m\n\u001b[1;32m     10\u001b[0m )\n",
      "\u001b[0;31mTypeError\u001b[0m: type Timestamp doesn't define __round__ method"
     ]
    }
   ],
   "source": [
    "actuator.run()\n",
    "print({k: round(v, 5) for k, v in performance_metrics(\n",
    "    actuator.account_status_df[\"net_value\"], benchmark=actuator.account_status_df[\"price\"][\"ETH\"]\n",
    ").items()})\n",
    "\n",
    "actuator.save_result(\n",
    "    path=\"./result\",  # save path\n",
    "    account=True,  # save account status list as a csv file\n",
    "    actions=True,  # save actions as a json file and a pickle file\n",
    ")"
   ]
  },
  {
   "cell_type": "markdown",
   "metadata": {
    "collapsed": false
   },
   "source": [
    "Make plot about output net value、value in position、value in account and price"
   ]
  },
  {
   "cell_type": "code",
   "execution_count": 9,
   "metadata": {
    "ExecuteTime": {
     "end_time": "2024-07-22T08:22:54.005230Z",
     "start_time": "2024-07-22T08:22:53.390305Z"
    },
    "collapsed": false
   },
   "outputs": [
    {
     "name": "stderr",
     "output_type": "stream",
     "text": [
      "/var/folders/11/llb_31fx359c3jzc04q5rklh0000gn/T/ipykernel_75893/242916292.py:24: UserWarning: FigureCanvasAgg is non-interactive, and thus cannot be shown\n",
      "  fig.show()\n"
     ]
    },
    {
     "data": {
      "image/png": "[encoded data removed]",
      "text/plain": [
       "<Figure size 640x480 with 2 Axes>"
      ]
     },
     "metadata": {},
     "output_type": "display_data"
    }
   ],
   "source": [
    "plot_position_return_decomposition(actuator.account_status_df, actuator.token_prices[eth.name], market_key)"
   ]
  },
  {
   "cell_type": "code",
   "execution_count": null,
   "metadata": {},
   "outputs": [],
   "source": []
  }
 ],
 "metadata": {
  "kernelspec": {
   "display_name": "Python 3",
   "language": "python",
   "name": "python3"
  },
  "language_info": {
   "codemirror_mode": {
    "name": "ipython",
    "version": 3
   },
   "file_extension": ".py",
   "mimetype": "text/x-python",
   "name": "python",
   "nbconvert_exporter": "python",
   "pygments_lexer": "ipython3",
   "version": "3.12.4"
  }
 },
 "nbformat": 4,
 "nbformat_minor": 0
}
