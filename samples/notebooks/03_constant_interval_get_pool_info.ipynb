{
 "cells": [
  {
   "cell_type": "markdown",
   "metadata": {
    "collapsed": false,
    "jupyter": {
     "outputs_hidden": false
    }
   },
   "source": [
    "# Constant Interval\n",
    "\n",
    "We will choose a fixed parameter a > 0 for this strategy. In the beginning, we will provide liquidity in a symmetric interval around the current price. This interval will never be adjusted. More specifically, we will choose the interval [p − a, p + a], where p is the price at the beginning.\n",
    "For the USDC-ETH pool, we will choose a ∈ [10, 40000], which means that the size is between 10 and 40000 basis points, or 0.1% and 400%. It does not make sense to choose another a because, at any time, the price is always in [p−a,p+a]."
   ]
  },
  {
   "cell_type": "markdown",
   "metadata": {
    "collapsed": false,
    "jupyter": {
     "outputs_hidden": false
    }
   },
   "source": [
    "Import code dependencies"
   ]
  },
  {
   "cell_type": "code",
   "execution_count": 1,
   "metadata": {
    "ExecuteTime": {
     "end_time": "2024-07-22T08:21:14.045985Z",
     "start_time": "2024-07-22T08:21:14.041917Z"
    },
    "collapsed": false,
    "jupyter": {
     "outputs_hidden": false
    }
   },
   "outputs": [],
   "source": [
    "from typing import List\n",
    "\n",
    "import pandas as pd\n",
    "from matplotlib.pylab import plt\n",
    "import matplotlib.dates as mdates\n",
    "from datetime import date\n",
    "\n",
    "from demeter import MarketInfo, Actuator, MarketInfo, TokenInfo, Strategy, ChainType\n",
    "from demeter.broker import AccountStatus\n",
    "from demeter.result import performance_metrics, round_results\n",
    "from demeter.uniswap import UniV3Pool, UniLpMarket\n",
    "\n",
    "pd.options.display.max_columns = None\n",
    "pd.set_option(\"display.width\", 5000)"
   ]
  },
  {
   "cell_type": "markdown",
   "metadata": {
    "collapsed": false,
    "jupyter": {
     "outputs_hidden": false
    }
   },
   "source": [
    "Custom Constant Interval strategy with code to add liquidity at constant interval around current price."
   ]
  },
  {
   "cell_type": "code",
   "execution_count": 2,
   "metadata": {
    "ExecuteTime": {
     "end_time": "2024-07-22T08:21:14.182705Z",
     "start_time": "2024-07-22T08:21:14.176836Z"
    },
    "collapsed": false,
    "jupyter": {
     "outputs_hidden": false
    }
   },
   "outputs": [],
   "source": [
    "class ConstantIntervalStrategy(Strategy):\n",
    "    def __init__(self, a=100):\n",
    "        super().__init__()\n",
    "        self.a = a\n",
    "\n",
    "    def initialize(self):\n",
    "        market: UniLpMarket = self.markets[market_key]\n",
    "        init_price = market.market_status.data.price\n",
    "        market.even_rebalance(init_price)  # rebalance all reserve token#\n",
    "        # new_position(self, baseToken, quoteToken, usd_price_a, usd_price_b):\n",
    "        # what is  base/quote \"https://corporatefinanceinstitute.com/resources/knowledge/economics/currency-pair/\"\n",
    "        market.add_liquidity(init_price - self.a, init_price + self.a)\n",
    "        super().__init__()"
   ]
  },
  {
   "cell_type": "markdown",
   "metadata": {
    "collapsed": false,
    "jupyter": {
     "outputs_hidden": false
    }
   },
   "source": [
    "Main logic to run Actuator, init two token and market with key \"market1\""
   ]
  },
  {
   "cell_type": "markdown",
   "metadata": {},
   "source": [
    "I think that UniV3Pool could be made as general Pool class and then TokenInfo could be using it to initalize? "
   ]
  },
  {
   "cell_type": "code",
   "execution_count": 3,
   "metadata": {},
   "outputs": [],
   "source": [
    "API_KEY = \"\"\n",
    "POOL_ADDRESS = \"0x88e6a0c2ddd26feeb64f039a2c41296fcb3f5640\".lower()\n",
    "START_DATE = date(2024, 8, 1)\n",
    "END_DATE = date(2024, 9, 1)\n",
    "pool = UniV3Pool(pool_address=POOL_ADDRESS, api_key=API_KEY)\n",
    "market_key = MarketInfo(\"market1\")\n",
    "actuator = Actuator()  # declare actuator\n",
    "broker = actuator.broker\n",
    "market = UniLpMarket(market_key, pool)\n",
    "broker.add_market(market)\n",
    "broker.set_balance(pool.token0, 2000)  # For USDC\n",
    "broker.set_balance(pool.token1, 0)     # For ETH"
   ]
  },
  {
   "cell_type": "code",
   "execution_count": 6,
   "metadata": {},
   "outputs": [
    {
     "name": "stderr",
     "output_type": "stream",
     "text": [
      "2024-10-05 15:36:12,822 - INFO - start load files from 2023-08-13 to 2023-08-17...\n",
      "2024-10-05 15:36:12,854 - INFO - load file complete, preparing...\n",
      "2024-10-05 15:36:12,942 - INFO - data has been prepared\n"
     ]
    }
   ],
   "source": [
    "actuator.strategy = ConstantIntervalStrategy(100)\n",
    "\n",
    "market.data_path = \"../data\"\n",
    "market.load_data(ChainType.polygon.name, \"0x45dda9cb7c25131df268515131f647d726f50608\", date(2023, 8, 13),\n",
    "                 date(2023, 8, 17))\n",
    "actuator.set_price(market.get_price_from_data())\n",
    "# actuator.run()  # run test"
   ]
  },
  {
   "cell_type": "markdown",
   "metadata": {
    "collapsed": false,
    "jupyter": {
     "outputs_hidden": false
    }
   },
   "source": [
    "Run actuator with evaluators and save result to files"
   ]
  },
  {
   "cell_type": "code",
   "execution_count": 7,
   "metadata": {},
   "outputs": [
    {
     "data": {
      "text/html": [
       "<div>\n",
       "<style scoped>\n",
       "    .dataframe tbody tr th:only-of-type {\n",
       "        vertical-align: middle;\n",
       "    }\n",
       "\n",
       "    .dataframe tbody tr th {\n",
       "        vertical-align: top;\n",
       "    }\n",
       "\n",
       "    .dataframe thead th {\n",
       "        text-align: right;\n",
       "    }\n",
       "</style>\n",
       "<table border=\"1\" class=\"dataframe\">\n",
       "  <thead>\n",
       "    <tr style=\"text-align: right;\">\n",
       "      <th></th>\n",
       "      <th>netAmount0</th>\n",
       "      <th>netAmount1</th>\n",
       "      <th>closeTick</th>\n",
       "      <th>openTick</th>\n",
       "      <th>lowestTick</th>\n",
       "      <th>highestTick</th>\n",
       "      <th>inAmount0</th>\n",
       "      <th>inAmount1</th>\n",
       "      <th>currentLiquidity</th>\n",
       "      <th>open</th>\n",
       "      <th>price</th>\n",
       "      <th>low</th>\n",
       "      <th>high</th>\n",
       "      <th>volume0</th>\n",
       "      <th>volume1</th>\n",
       "    </tr>\n",
       "  </thead>\n",
       "  <tbody>\n",
       "    <tr>\n",
       "      <th>2023-08-13 00:00:00</th>\n",
       "      <td>-1970524626</td>\n",
       "      <td>1066799650715290921</td>\n",
       "      <td>201101.0</td>\n",
       "      <td>201101.0</td>\n",
       "      <td>201101.0</td>\n",
       "      <td>201101.0</td>\n",
       "      <td>0</td>\n",
       "      <td>1066799650715290921</td>\n",
       "      <td>2391553663290390168</td>\n",
       "      <td>1848.1243777237890625289195435154359</td>\n",
       "      <td>1848.1243777237890625289195435154359</td>\n",
       "      <td>1848.1243777237890625289195435154359</td>\n",
       "      <td>1848.1243777237890625289195435154359</td>\n",
       "      <td>0</td>\n",
       "      <td>1.066799650715290921</td>\n",
       "    </tr>\n",
       "    <tr>\n",
       "      <th>2023-08-13 00:01:00</th>\n",
       "      <td>0</td>\n",
       "      <td>0</td>\n",
       "      <td>201101.0</td>\n",
       "      <td>201101.0</td>\n",
       "      <td>201101.0</td>\n",
       "      <td>201101.0</td>\n",
       "      <td>0</td>\n",
       "      <td>0</td>\n",
       "      <td>2391553663290390168</td>\n",
       "      <td>1848.1243777237890625289195435154359</td>\n",
       "      <td>1848.1243777237890625289195435154359</td>\n",
       "      <td>1848.1243777237890625289195435154359</td>\n",
       "      <td>1848.1243777237890625289195435154359</td>\n",
       "      <td>0</td>\n",
       "      <td>0</td>\n",
       "    </tr>\n",
       "  </tbody>\n",
       "</table>\n",
       "</div>"
      ],
      "text/plain": [
       "                      netAmount0           netAmount1  closeTick  openTick  lowestTick  highestTick inAmount0            inAmount1     currentLiquidity                                  open                                 price                                   low                                  high volume0               volume1\n",
       "2023-08-13 00:00:00  -1970524626  1066799650715290921   201101.0  201101.0    201101.0     201101.0         0  1066799650715290921  2391553663290390168  1848.1243777237890625289195435154359  1848.1243777237890625289195435154359  1848.1243777237890625289195435154359  1848.1243777237890625289195435154359       0  1.066799650715290921\n",
       "2023-08-13 00:01:00            0                    0   201101.0  201101.0    201101.0     201101.0         0                    0  2391553663290390168  1848.1243777237890625289195435154359  1848.1243777237890625289195435154359  1848.1243777237890625289195435154359  1848.1243777237890625289195435154359       0                     0"
      ]
     },
     "execution_count": 7,
     "metadata": {},
     "output_type": "execute_result"
    }
   ],
   "source": [
    "market.data.head(2)"
   ]
  },
  {
   "cell_type": "code",
   "execution_count": 8,
   "metadata": {},
   "outputs": [
    {
     "name": "stderr",
     "output_type": "stream",
     "text": [
      "2024-10-05 15:36:22,409 - INFO - Qute token is USDC\n",
      "2024-10-05 15:36:22,410 - INFO - init strategy...\n",
      "2024-10-05 15:36:22,412 - INFO - start main loop...\n",
      "100%|███████████████████████████████████████████████████████████████████████████████████████████████████████████| 7200/7200 [00:00<00:00, 9412.39it/s]\n",
      "2024-10-05 15:36:23,193 - INFO - main loop finished\n",
      "2024-10-05 15:36:23,250 - INFO - Print actuator summary\n",
      "2024-10-05 15:36:23,268 - INFO - Backtesting finished, execute time 0.860663890838623s\n"
     ]
    },
    {
     "name": "stdout",
     "output_type": "stream",
     "text": [
      "\u001b[7;31mFinal account status                              \u001b[0m\n",
      "\u001b[7;35mToken balance in broker       \u001b[0m\n",
      "\u001b[34mUSDC      \u001b[0m:0                        \u001b[34mWETH      \u001b[0m:0.026738035              \n",
      "\u001b[7;35mPosition value in markets     \u001b[0m\n",
      "\u001b[4;33mmarket1(UniLpMarket)\u001b[0m\n",
      "\u001b[34mtoken0    \u001b[0m:USDC                     \u001b[34mtoken1    \u001b[0m:WETH                     \u001b[34mfee(%)    \u001b[0m:0.0500                   \u001b[34mquote token\u001b[0m:USDC                     \n",
      "\u001b[34mpositions \u001b[0m\n",
      "   lower_tick  upper_tick   pending0      pending1        liquidity\n",
      "0      200570      201660  2.5731274  0.0017363770  843762970646576\n",
      "\n",
      "\u001b[34mQuote by: USDC\u001b[0m\n",
      "\u001b[7;31mAccount balance history                           \u001b[0m\n",
      "l1                  net_value tokens               market1                                                                                          price     \n",
      "l2                              USDC        WETH net_value base_uncollected quote_uncollected base_in_position quote_in_position position_count      WETH USDC\n",
      "2023-08-13 00:00:00 1999.5002      0 0.026738035  1950.085    1.8812218e-07                 0       0.51421585         999.74981              1 1848.1244    1\n",
      "2023-08-13 00:01:00 1999.5002      0 0.026738035  1950.085    1.8812218e-07                 0       0.51421585         999.74981              1 1848.1244    1\n",
      "2023-08-13 00:02:00 1999.5002      0 0.026738035  1950.085    1.8817703e-07                 0       0.51421585         999.74981              1 1848.1244    1\n",
      "2023-08-13 00:03:00 1999.5002      0 0.026738035  1950.085    2.0172014e-07                 0       0.51421585         999.74981              1 1848.1244    1\n",
      "2023-08-13 00:04:00 1999.5003      0 0.026738035 1950.0851    2.2878696e-07                 0       0.51421585         999.74981              1 1848.1244    1\n",
      "...                       ...    ...         ...       ...              ...               ...              ...               ...            ...       ...  ...\n",
      "2023-08-17 23:55:00 1852.1464      0 0.026738035 1807.1464      0.001736377         2.5731274        1.0705018                 0              1 1682.9967    1\n",
      "2023-08-17 23:56:00 1852.5163      0 0.026738035 1807.5073      0.001736377         2.5731274        1.0705018                 0              1 1683.3333    1\n",
      "2023-08-17 23:57:00 1852.5163      0 0.026738035 1807.5073      0.001736377         2.5731274        1.0705018                 0              1 1683.3333    1\n",
      "2023-08-17 23:58:00 1852.8863      0 0.026738035 1807.8683      0.001736377         2.5731274        1.0705018                 0              1   1683.67    1\n",
      "2023-08-17 23:59:00 1852.8863      0 0.026738035 1807.8683      0.001736377         2.5731274        1.0705018                 0              1   1683.67    1\n",
      "\n",
      "[7200 rows x 11 columns]\n"
     ]
    }
   ],
   "source": [
    "actuator.run()"
   ]
  },
  {
   "cell_type": "code",
   "execution_count": 9,
   "metadata": {},
   "outputs": [
    {
     "ename": "TypeError",
     "evalue": "type Timestamp doesn't define __round__ method",
     "output_type": "error",
     "traceback": [
      "\u001b[0;31m---------------------------------------------------------------------------\u001b[0m",
      "\u001b[0;31mTypeError\u001b[0m                                 Traceback (most recent call last)",
      "Cell \u001b[0;32mIn[9], line 1\u001b[0m\n\u001b[0;32m----> 1\u001b[0m \u001b[38;5;28mprint\u001b[39m({k: \u001b[38;5;28;43mround\u001b[39;49m\u001b[43m(\u001b[49m\u001b[43mv\u001b[49m\u001b[43m,\u001b[49m\u001b[43m \u001b[49m\u001b[38;5;241;43m5\u001b[39;49m\u001b[43m)\u001b[49m \u001b[38;5;28;01mfor\u001b[39;00m k, v \u001b[38;5;129;01min\u001b[39;00m performance_metrics(\n\u001b[1;32m      2\u001b[0m     actuator\u001b[38;5;241m.\u001b[39maccount_status_df[\u001b[38;5;124m\"\u001b[39m\u001b[38;5;124mnet_value\u001b[39m\u001b[38;5;124m\"\u001b[39m], benchmark\u001b[38;5;241m=\u001b[39mactuator\u001b[38;5;241m.\u001b[39maccount_status_df[\u001b[38;5;124m\"\u001b[39m\u001b[38;5;124mprice\u001b[39m\u001b[38;5;124m\"\u001b[39m][pool\u001b[38;5;241m.\u001b[39mtoken1_str]\n\u001b[1;32m      3\u001b[0m )\u001b[38;5;241m.\u001b[39mitems()})\n",
      "\u001b[0;31mTypeError\u001b[0m: type Timestamp doesn't define __round__ method"
     ]
    }
   ],
   "source": [
    "print({k: round(v, 5) for k, v in performance_metrics(\n",
    "    actuator.account_status_df[\"net_value\"], benchmark=actuator.account_status_df[\"price\"][pool.token1_str]\n",
    ").items()})"
   ]
  },
  {
   "cell_type": "code",
   "execution_count": 10,
   "metadata": {},
   "outputs": [
    {
     "ename": "AttributeError",
     "evalue": "'Timestamp' object has no attribute 'items'",
     "output_type": "error",
     "traceback": [
      "\u001b[0;31m---------------------------------------------------------------------------\u001b[0m",
      "\u001b[0;31mAttributeError\u001b[0m                            Traceback (most recent call last)",
      "Cell \u001b[0;32mIn[10], line 3\u001b[0m\n\u001b[1;32m      1\u001b[0m \u001b[38;5;66;03m# does not work even when we check for instance\u001b[39;00m\n\u001b[1;32m      2\u001b[0m \u001b[38;5;66;03m# not sure where is the problem\u001b[39;00m\n\u001b[0;32m----> 3\u001b[0m \u001b[38;5;28mprint\u001b[39m({k: \u001b[43mround_results\u001b[49m\u001b[43m(\u001b[49m\u001b[43mv\u001b[49m\u001b[43m,\u001b[49m\u001b[43m \u001b[49m\u001b[38;5;241;43m5\u001b[39;49m\u001b[43m)\u001b[49m \u001b[38;5;28;01mfor\u001b[39;00m k, v \u001b[38;5;129;01min\u001b[39;00m performance_metrics(\n\u001b[1;32m      4\u001b[0m     actuator\u001b[38;5;241m.\u001b[39maccount_status_df[\u001b[38;5;124m\"\u001b[39m\u001b[38;5;124mnet_value\u001b[39m\u001b[38;5;124m\"\u001b[39m], benchmark\u001b[38;5;241m=\u001b[39mactuator\u001b[38;5;241m.\u001b[39maccount_status_df[\u001b[38;5;124m\"\u001b[39m\u001b[38;5;124mprice\u001b[39m\u001b[38;5;124m\"\u001b[39m][pool\u001b[38;5;241m.\u001b[39mtoken1_str]\n\u001b[1;32m      5\u001b[0m )\u001b[38;5;241m.\u001b[39mitems()})\n",
      "File \u001b[0;32m~/Documents/AMM/demeter/demeter/result/metrics/core.py:77\u001b[0m, in \u001b[0;36mround_results\u001b[0;34m(val_dict, decimal)\u001b[0m\n\u001b[1;32m     74\u001b[0m     \u001b[38;5;28;01melse\u001b[39;00m:\n\u001b[1;32m     75\u001b[0m         \u001b[38;5;28;01mreturn\u001b[39;00m v\n\u001b[0;32m---> 77\u001b[0m \u001b[38;5;28;01mreturn\u001b[39;00m {k: round_value(v) \u001b[38;5;28;01mfor\u001b[39;00m k, v \u001b[38;5;129;01min\u001b[39;00m \u001b[43mval_dict\u001b[49m\u001b[38;5;241;43m.\u001b[39;49m\u001b[43mitems\u001b[49m()}\n",
      "\u001b[0;31mAttributeError\u001b[0m: 'Timestamp' object has no attribute 'items'"
     ]
    }
   ],
   "source": [
    "# does not work even when we check for instance\n",
    "# not sure where is the problem\n",
    "print({k: round_results(v, 5) for k, v in performance_metrics(\n",
    "    actuator.account_status_df[\"net_value\"], benchmark=actuator.account_status_df[\"price\"][pool.token1_str]\n",
    ").items()})"
   ]
  },
  {
   "cell_type": "code",
   "execution_count": 11,
   "metadata": {},
   "outputs": [],
   "source": [
    "#need to use not rounded value"
   ]
  },
  {
   "cell_type": "code",
   "execution_count": 12,
   "metadata": {},
   "outputs": [
    {
     "name": "stdout",
     "output_type": "stream",
     "text": [
      "{Start period: Timestamp('2023-08-13 00:00:00'), End period: Timestamp('2023-08-17 23:59:00'), Duration: Timedelta('5 days 00:00:00'), Return: -146.6138841801569, Rate of Return: -0.07332526526151262, APR: -0.9961479267723489, Max Draw Down: 0.12455120134379453, Sharpe Ratio: -2.3464267086029222, Volatility: 0.4373236645364145, Alpha: -0.037750176935095525, Beta: 0.9594628978875338, Benchmark return rate: -0.08898447514180896, Benchmark APR: -0.9988898496725327}\n"
     ]
    }
   ],
   "source": [
    "print({k: v for k, v in performance_metrics(\n",
    "    actuator.account_status_df[\"net_value\"], benchmark=actuator.account_status_df[\"price\"][str(pool.token1)]\n",
    ").items()})"
   ]
  },
  {
   "cell_type": "code",
   "execution_count": 13,
   "metadata": {},
   "outputs": [],
   "source": [
    "# This plotter needs an automatic detection of what pool and therefore pai we are using\n",
    "# We could use pool info\n",
    "\n",
    "#Set matplotlib to show formatted account status\n",
    "def plotter(account_status_list: List[AccountStatus]):\n",
    "    net_value_ts = [status.net_value for status in account_status_list]\n",
    "    time_ts = [status.timestamp for status in account_status_list]\n",
    "    plt.plot(time_ts, net_value_ts)\n",
    "    plt.show()\n",
    "\n",
    "#Make plot about price and account value / position net value\n",
    "def plot_position_return_decomposition(account_status: pd.DataFrame, price: pd.Series, market: MarketInfo, pool: UniV3Pool):\n",
    "    fig, value_ax = plt.subplots()\n",
    "    day = mdates.DayLocator(interval=2)\n",
    "\n",
    "    price_ax = value_ax.twinx()\n",
    "    price_ax.xaxis.set_major_locator(day)\n",
    "    price_ax.xaxis.set_major_formatter(mdates.DateFormatter('%m-%d'))\n",
    "    value_ax.set_xlabel('time')\n",
    "    value_ax.set_ylabel('value', color='g')\n",
    "    price_ax.set_ylabel('price', color='b')\n",
    "\n",
    "    net_value_ts = list(account_status.net_value)\n",
    "    time_ts = list(account_status.index)\n",
    "    price_ts = list(price)\n",
    "\n",
    "    value_in_position = account_status[market.name][\"net_value\"]\n",
    "    # this str \n",
    "    value_in_account = account_status[\"tokens\"][pool.token0_str] + account_status[\"tokens\"][pool.token1_str] * price\n",
    "\n",
    "    value_ax.plot(time_ts, net_value_ts, 'g-', label=\"net value\")\n",
    "    value_ax.plot(time_ts, value_in_position, 'r-', label=\"value in get_position\")\n",
    "    value_ax.plot(time_ts, value_in_account, 'b-', label=\"value in broker account\")\n",
    "    price_ax.plot(time_ts, price_ts, 'y-', label=\"price\")\n",
    "    fig.legend()\n",
    "    fig.show()"
   ]
  },
  {
   "cell_type": "code",
   "execution_count": 15,
   "metadata": {
    "ExecuteTime": {
     "end_time": "2024-07-22T08:21:17.844693Z",
     "start_time": "2024-07-22T08:21:17.380860Z"
    },
    "collapsed": false,
    "jupyter": {
     "outputs_hidden": false
    }
   },
   "outputs": [
    {
     "name": "stderr",
     "output_type": "stream",
     "text": [
      "/var/folders/11/llb_31fx359c3jzc04q5rklh0000gn/T/ipykernel_80055/1818749377.py:36: UserWarning: FigureCanvasAgg is non-interactive, and thus cannot be shown\n",
      "  fig.show()\n"
     ]
    },
    {
     "data": {
      "image/png": "[encoded data removed]",
      "text/plain": [
       "<Figure size 640x480 with 2 Axes>"
      ]
     },
     "metadata": {},
     "output_type": "display_data"
    }
   ],
   "source": [
    "plot_position_return_decomposition(actuator.account_status_df, actuator.token_prices[pool.quote_token_str], market_key, pool)"
   ]
  },
  {
   "cell_type": "markdown",
   "metadata": {},
   "source": [
    "### Let's try it with the newer Ethereum data "
   ]
  },
  {
   "cell_type": "code",
   "execution_count": 17,
   "metadata": {},
   "outputs": [
    {
     "name": "stderr",
     "output_type": "stream",
     "text": [
      "2024-10-05 15:47:34,642 - INFO - start load files from 2024-07-02 to 2024-08-01...\n",
      "2024-10-05 15:47:34,791 - INFO - load file complete, preparing...\n",
      "2024-10-05 15:47:35,267 - INFO - data has been prepared\n"
     ]
    }
   ],
   "source": [
    "API_KEY = \"\"\n",
    "POOL_ADDRESS = \"0x88e6a0c2ddd26feeb64f039a2c41296fcb3f5640\".lower()\n",
    "START_DATE = date(2024, 8, 1)\n",
    "END_DATE = date(2024, 9, 1)\n",
    "pool = UniV3Pool(pool_address=POOL_ADDRESS, api_key=API_KEY)\n",
    "market_key = MarketInfo(\"market1\")\n",
    "actuator = Actuator()  # declare actuator\n",
    "broker = actuator.broker\n",
    "market = UniLpMarket(market_key, pool)\n",
    "broker.add_market(market)\n",
    "broker.set_balance(pool.token0, 2000)  # For USDC\n",
    "broker.set_balance(pool.token1, 0)     # For ETH\n",
    "actuator.strategy = ConstantIntervalStrategy(200)\n",
    "\n",
    "market.data_path = \"\"\n",
    "market.load_data(ChainType.ethereum.name, \"0x88e6a0c2ddd26feeb64f039a2c41296fcb3f5640\", date(2024, 7, 2),\n",
    "                 date(2024, 8, 1))\n",
    "actuator.set_price(market.get_price_from_data())\n",
    "# actuator.run()  # run test"
   ]
  },
  {
   "cell_type": "markdown",
   "metadata": {},
   "source": [
    "Run actuator with evaluators and save result to files"
   ]
  },
  {
   "cell_type": "code",
   "execution_count": 18,
   "metadata": {},
   "outputs": [
    {
     "name": "stderr",
     "output_type": "stream",
     "text": [
      "2024-10-05 15:47:38,973 - INFO - Qute token is USDC\n",
      "2024-10-05 15:47:38,973 - INFO - init strategy...\n",
      "2024-10-05 15:47:38,977 - INFO - start main loop...\n",
      "100%|█████████████████████████████████████████████████████████████████████████████████████████████████████████| 44640/44640 [00:04<00:00, 9631.05it/s]\n",
      "2024-10-05 15:47:43,615 - INFO - main loop finished\n",
      "2024-10-05 15:47:43,948 - INFO - Print actuator summary\n",
      "2024-10-05 15:47:44,049 - INFO - Backtesting finished, execute time 5.079678058624268s\n"
     ]
    },
    {
     "name": "stdout",
     "output_type": "stream",
     "text": [
      "\u001b[7;31mFinal account status                              \u001b[0m\n",
      "\u001b[7;35mToken balance in broker       \u001b[0m\n",
      "\u001b[34mUSDC      \u001b[0m:0                        \u001b[34mWETH      \u001b[0m:0.013504318              \n",
      "\u001b[7;35mPosition value in markets     \u001b[0m\n",
      "\u001b[4;33mmarket1(UniLpMarket)\u001b[0m\n",
      "\u001b[34mtoken0    \u001b[0m:USDC                     \u001b[34mtoken1    \u001b[0m:WETH                     \u001b[34mfee(%)    \u001b[0m:0.0500                   \u001b[34mquote token\u001b[0m:USDC                     \n",
      "\u001b[34mpositions \u001b[0m\n",
      "   lower_tick  upper_tick   pending0     pending1        liquidity\n",
      "0      194320      195480  39.908089  0.012149612  582470219044557\n",
      "\n",
      "\u001b[34mQuote by: USDC\u001b[0m\n",
      "\u001b[7;31mAccount balance history                           \u001b[0m\n",
      "l1                  net_value tokens               market1                                                                                          price     \n",
      "l2                              USDC        WETH net_value base_uncollected quote_uncollected base_in_position quote_in_position position_count      WETH USDC\n",
      "2024-07-02 00:00:00 1999.5008      0 0.013504318 1953.0381    2.5766256e-07                 0       0.27707167         999.74981              1 3440.5805    1\n",
      "2024-07-02 00:01:00  1999.501      0 0.013504318 1953.0383    2.7433361e-07     0.00014500453       0.27707167         999.74981              1 3440.5805    1\n",
      "2024-07-02 00:02:00 1999.0031      0 0.013504318 1952.5636     1.434069e-06     0.00016195178        0.2795544          991.2099              1 3438.8607    1\n",
      "2024-07-02 00:03:00 1999.0031      0 0.013504318 1952.5637     1.438987e-06     0.00018477821        0.2795544          991.2099              1 3438.8607    1\n",
      "2024-07-02 00:04:00 1999.0032      0 0.013504318 1952.5637    1.4492377e-06     0.00020128362        0.2795544          991.2099              1 3438.8607    1\n",
      "...                       ...    ...         ...       ...              ...               ...              ...               ...            ...       ...  ...\n",
      "2024-08-01 23:55:00 1968.2232      0 0.013504318 1924.9708      0.012149612         39.908089       0.57640667                 0              1 3202.8588    1\n",
      "2024-08-01 23:56:00 1968.2232      0 0.013504318 1924.9708      0.012149612         39.908089       0.57640667                 0              1 3202.8588    1\n",
      "2024-08-01 23:57:00 1968.2232      0 0.013504318 1924.9708      0.012149612         39.908089       0.57640667                 0              1 3202.8588    1\n",
      "2024-08-01 23:58:00 1968.2232      0 0.013504318 1924.9708      0.012149612         39.908089       0.57640667                 0              1 3202.8588    1\n",
      "2024-08-01 23:59:00 1968.2232      0 0.013504318 1924.9708      0.012149612         39.908089       0.57640667                 0              1 3202.8588    1\n",
      "\n",
      "[44640 rows x 11 columns]\n"
     ]
    }
   ],
   "source": [
    "actuator.run()"
   ]
  },
  {
   "cell_type": "code",
   "execution_count": 20,
   "metadata": {},
   "outputs": [
    {
     "name": "stdout",
     "output_type": "stream",
     "text": [
      "{Start period: Timestamp('2024-07-02 00:00:00'), End period: Timestamp('2024-08-01 23:59:00'), Duration: Timedelta('31 days 00:00:00'), Return: -31.277575140650924, Rate of Return: -0.015642692291407356, APR: -0.16942398417444182, Max Draw Down: 0.17456711431735525, Sharpe Ratio: -0.419573758156524, Volatility: 0.47530137502101366, Alpha: 0.3284221739735472, Beta: 0.8740607951708604, Benchmark return rate: -0.06909348496087198, Benchmark APR: -0.5695784102187615}\n"
     ]
    }
   ],
   "source": [
    "print({k: v for k, v in performance_metrics(\n",
    "    actuator.account_status_df[\"net_value\"], benchmark=actuator.account_status_df[\"price\"][str(pool.token1)]\n",
    ").items()})"
   ]
  },
  {
   "cell_type": "code",
   "execution_count": 22,
   "metadata": {},
   "outputs": [],
   "source": [
    "# is this graph correct regarding value in broker amount? "
   ]
  },
  {
   "cell_type": "code",
   "execution_count": 21,
   "metadata": {},
   "outputs": [
    {
     "name": "stderr",
     "output_type": "stream",
     "text": [
      "/var/folders/11/llb_31fx359c3jzc04q5rklh0000gn/T/ipykernel_80055/1818749377.py:36: UserWarning: FigureCanvasAgg is non-interactive, and thus cannot be shown\n",
      "  fig.show()\n"
     ]
    },
    {
     "data": {
      "image/png": "[encoded data removed]",
      "text/plain": [
       "<Figure size 640x480 with 2 Axes>"
      ]
     },
     "metadata": {},
     "output_type": "display_data"
    }
   ],
   "source": [
    "plot_position_return_decomposition(actuator.account_status_df, actuator.token_prices[pool.quote_token_str], market_key, pool)"
   ]
  },
  {
   "cell_type": "code",
   "execution_count": null,
   "metadata": {},
   "outputs": [],
   "source": []
  }
 ],
 "metadata": {
  "kernelspec": {
   "display_name": "Python 3 (ipykernel)",
   "language": "python",
   "name": "python3"
  },
  "language_info": {
   "codemirror_mode": {
    "name": "ipython",
    "version": 3
   },
   "file_extension": ".py",
   "mimetype": "text/x-python",
   "name": "python",
   "nbconvert_exporter": "python",
   "pygments_lexer": "ipython3",
   "version": "3.12.4"
  }
 },
 "nbformat": 4,
 "nbformat_minor": 4
}
