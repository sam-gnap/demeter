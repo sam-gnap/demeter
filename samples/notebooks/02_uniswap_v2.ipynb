{
 "cells": [
  {
   "cell_type": "markdown",
   "metadata": {
    "collapsed": false
   },
   "source": [
    "# Uniswap V2\n",
    "For this strategy, we will provide the liquidity just as in Uniswap v2. We will provide liquidity in the interval [minTick, maxTick]."
   ]
  },
  {
   "cell_type": "markdown",
   "metadata": {
    "collapsed": false
   },
   "source": [
    "Import code dependencies"
   ]
  },
  {
   "cell_type": "code",
   "execution_count": 1,
   "metadata": {
    "ExecuteTime": {
     "end_time": "2024-07-22T08:21:34.753866Z",
     "start_time": "2024-07-22T08:21:34.749055Z"
    },
    "collapsed": false
   },
   "outputs": [],
   "source": [
    "from datetime import date, datetime\n",
    "import pandas as pd\n",
    "\n",
    "from demeter import TokenInfo, Actuator, Strategy, RowData, ChainType, MarketInfo, AtTimeTrigger\n",
    "# perhaphs the one below could be a class?\n",
    "from demeter.result import performance_metrics, round_results\n",
    "from demeter.uniswap import UniV3Pool, UniLpMarket"
   ]
  },
  {
   "cell_type": "markdown",
   "metadata": {
    "collapsed": false
   },
   "source": [
    "Set pandas output format"
   ]
  },
  {
   "cell_type": "code",
   "execution_count": 2,
   "metadata": {
    "ExecuteTime": {
     "end_time": "2024-07-22T08:21:34.791686Z",
     "start_time": "2024-07-22T08:21:34.786539Z"
    },
    "collapsed": false
   },
   "outputs": [],
   "source": [
    "pd.options.display.max_columns = None\n",
    "pd.set_option(\"display.width\", 5000)"
   ]
  },
  {
   "cell_type": "markdown",
   "metadata": {
    "collapsed": false
   },
   "source": [
    "Custom Uniswap V2 strategy with add liquidity from tick -887272(minTick) to 887272(maxTick)"
   ]
  },
  {
   "cell_type": "code",
   "execution_count": 3,
   "metadata": {
    "ExecuteTime": {
     "end_time": "2024-07-22T08:21:34.799595Z",
     "start_time": "2024-07-22T08:21:34.793700Z"
    },
    "collapsed": false
   },
   "outputs": [],
   "source": [
    "class UniswapV2Strategy(Strategy):\n",
    "    def initialize(self):\n",
    "        \"\"\"\n",
    "        Initialize function will be called right before a backtest start.\n",
    "        You can do various things here, e.g. register a trigger, or add a simple moving average line.\n",
    "        \"\"\"\n",
    "        new_trigger = AtTimeTrigger(  # define a new trigger\n",
    "            time=datetime(2023, 8, 15, 12, 0, 0), do=self.work  # we will make the action happen at 12:00 20/8/22\n",
    "        )  # This is a callback function, defines what to do at this time.\n",
    "        self.triggers.append(new_trigger)  # Register our trigger\n",
    "\n",
    "    def work(self, row_data: RowData):\n",
    "        \"\"\"\n",
    "        When time is up, work function will be called.\n",
    "        \"\"\"\n",
    "        lp_market: UniLpMarket = self.markets[market_key]  # pick our market.\n",
    "        lp_market.add_liquidity_by_tick(-887272, 887272)  # add liquidity\n",
    "        pass"
   ]
  },
  {
   "cell_type": "markdown",
   "metadata": {
    "collapsed": false
   },
   "source": [
    "Main logic to run Actuator, init two token and market with key \"market1\""
   ]
  },
  {
   "cell_type": "code",
   "execution_count": 4,
   "metadata": {
    "ExecuteTime": {
     "end_time": "2024-07-22T08:21:34.901651Z",
     "start_time": "2024-07-22T08:21:34.804605Z"
    },
    "collapsed": false
   },
   "outputs": [],
   "source": [
    "# Declare a token, and it's name will be used as unit of amounts.\n",
    "usdc = TokenInfo(name=\"usdc\", decimal=6)  # declare token usdc\n",
    "eth = TokenInfo(name=\"eth\", decimal=18)  # declare token eth\n",
    "# Declare an Uniswap V3 pool. We will set the parameters according to the real pool on chain.\n",
    "pool = UniV3Pool(token0=usdc, token1=eth, fee=0.05, quote_token=usdc)\n",
    "\n",
    "# Declare a market key, which will be used to find the corresponding market in broker\n",
    "market_key = MarketInfo(\"market1\")\n",
    "# Declare the market,\n",
    "market = UniLpMarket(market_key, pool)  # uni_market:UniLpMarket, positions: 0, total liquidity: 0\n",
    "# load data for market. those data is prepared by download tool\n",
    "market.data_path = \"../data\"  # set data path\n",
    "market.load_data(\n",
    "    chain=ChainType.polygon.name,  # load data\n",
    "    contract_addr=\"0x45dda9cb7c25131df268515131f647d726f50608\",\n",
    "    start_date=date(2023, 8, 15),\n",
    "    end_date=date(2023, 8, 15),\n",
    ")\n",
    "\n",
    "# Declare the Actuator, which controls the whole process\n",
    "actuator = Actuator()  # declare actuator, Demeter Actuator (broker:assets: ; markets: )\n",
    "# add market to broker\n",
    "actuator.broker.add_market(market)\n",
    "# Initial some fund to broker.\n",
    "actuator.broker.set_balance(usdc, 10000)\n",
    "actuator.broker.set_balance(eth, 10)\n",
    "# Set strategy to actuator\n",
    "actuator.strategy = UniswapV2Strategy()  # set strategy to actuator\n",
    "# Set price. Those price will be used in all markets.\n",
    "# Usually, you will have to find the price list from outer source.\n",
    "# Luckily, uniswap pool data contains price information. So UniLpMarket provides a function to retrieve price list.\n",
    "actuator.set_price(market.get_price_from_data())\n",
    "# run test, If you use default parameter, final fund status will be printed in console.\n",
    "\n",
    "# actuator.run()"
   ]
  },
  {
   "cell_type": "markdown",
   "metadata": {
    "collapsed": false
   },
   "source": [
    "Run actuator with evaluators and save result to files"
   ]
  },
  {
   "cell_type": "code",
   "execution_count": 5,
   "metadata": {},
   "outputs": [
    {
     "data": {
      "text/html": [
       "<div>\n",
       "<style scoped>\n",
       "    .dataframe tbody tr th:only-of-type {\n",
       "        vertical-align: middle;\n",
       "    }\n",
       "\n",
       "    .dataframe tbody tr th {\n",
       "        vertical-align: top;\n",
       "    }\n",
       "\n",
       "    .dataframe thead th {\n",
       "        text-align: right;\n",
       "    }\n",
       "</style>\n",
       "<table border=\"1\" class=\"dataframe\">\n",
       "  <thead>\n",
       "    <tr style=\"text-align: right;\">\n",
       "      <th></th>\n",
       "    </tr>\n",
       "  </thead>\n",
       "  <tbody>\n",
       "  </tbody>\n",
       "</table>\n",
       "</div>"
      ],
      "text/plain": [
       "Empty DataFrame\n",
       "Columns: []\n",
       "Index: []"
      ]
     },
     "execution_count": 5,
     "metadata": {},
     "output_type": "execute_result"
    }
   ],
   "source": [
    "actuator.account_status_df"
   ]
  },
  {
   "cell_type": "code",
   "execution_count": 6,
   "metadata": {},
   "outputs": [
    {
     "name": "stderr",
     "output_type": "stream",
     "text": [
      "2024-10-04 19:43:23,206 - INFO - Qute token is USDC\n",
      "2024-10-04 19:43:23,207 - INFO - init strategy...\n",
      "2024-10-04 19:43:23,208 - INFO - start main loop...\n",
      "100%|███████████████████████████████████████████████████████████████████████████████████████████████████████████| 1440/1440 [00:00<00:00, 6824.87it/s]\n",
      "2024-10-04 19:43:23,433 - INFO - main loop finished\n",
      "2024-10-04 19:43:23,449 - INFO - Print actuator summary\n",
      "2024-10-04 19:43:23,453 - INFO - Backtesting finished, execute time 0.24803495407104492s\n"
     ]
    },
    {
     "name": "stdout",
     "output_type": "stream",
     "text": [
      "\u001b[7;31mFinal account status                              \u001b[0m\n",
      "\u001b[7;35mToken balance in broker       \u001b[0m\n",
      "\u001b[34mUSDC      \u001b[0m:0                        \u001b[34mETH       \u001b[0m:4.5592684                \n",
      "\u001b[7;35mPosition value in markets     \u001b[0m\n",
      "\u001b[4;33mmarket1(UniLpMarket)\u001b[0m\n",
      "\u001b[34mtoken0    \u001b[0m:USDC                     \u001b[34mtoken1    \u001b[0m:ETH                      \u001b[34mfee(%)    \u001b[0m:0.0500                   \u001b[34mquote token\u001b[0m:USDC                     \n",
      "\u001b[34mpositions \u001b[0m\n",
      "   lower_tick  upper_tick     pending0        pending1        liquidity\n",
      "0     -887270      887270  0.096610981  0.000065859322  233253759509000\n",
      "\n",
      "\u001b[34mQuote by: USDC\u001b[0m\n",
      "\u001b[7;31mAccount balance history                           \u001b[0m\n",
      "l1                  net_value tokens             market1                                                                                          price     \n",
      "l2                              USDC       ETH net_value base_uncollected quote_uncollected base_in_position quote_in_position position_count       ETH USDC\n",
      "2023-08-15 00:00:00 28436.944  10000        10         0                0                 0                0                 0              0 1843.6944    1\n",
      "2023-08-15 00:01:00 28436.944  10000        10         0                0                 0                0                 0              0 1843.6944    1\n",
      "2023-08-15 00:02:00 28436.944  10000        10         0                0                 0                0                 0              0 1843.6944    1\n",
      "2023-08-15 00:03:00 28436.944  10000        10         0                0                 0                0                 0              0 1843.6944    1\n",
      "2023-08-15 00:04:00 28436.944  10000        10         0                0                 0                0                 0              0 1843.6944    1\n",
      "...                       ...    ...       ...       ...              ...               ...              ...               ...            ...       ...  ...\n",
      "2023-08-15 23:55:00 28273.724      0 4.5592684 19942.303    6.5605654e-05       0.096609993        5.4565319         9971.0435              1 1827.3592    1\n",
      "2023-08-15 23:56:00 28273.724      0 4.5592684 19942.303     6.561714e-05       0.096610661        5.4565319         9971.0435              1 1827.3592    1\n",
      "2023-08-15 23:57:00 28273.724      0 4.5592684 19942.303     6.562373e-05       0.096610981        5.4565319         9971.0435              1 1827.3592    1\n",
      "2023-08-15 23:58:00 28270.065      0 4.5592684  19940.31    6.5859322e-05       0.096610981        5.4570775         9970.0465              1 1826.9937    1\n",
      "2023-08-15 23:59:00 28270.065      0 4.5592684  19940.31    6.5859322e-05       0.096610981        5.4570775         9970.0465              1 1826.9937    1\n",
      "\n",
      "[1440 rows x 11 columns]\n"
     ]
    }
   ],
   "source": [
    "actuator.run()"
   ]
  },
  {
   "cell_type": "code",
   "execution_count": 7,
   "metadata": {},
   "outputs": [
    {
     "name": "stdout",
     "output_type": "stream",
     "text": [
      "{Start period: Timestamp('2023-08-15 00:00:00'), End period: Timestamp('2023-08-15 23:59:00'), Duration: Timedelta('1 days 00:00:00'), Return: -166.87959, Rate of Return: -0.00587, APR: -0.88332, Max Draw Down: 0.00992, Sharpe Ratio: -8.9171, Volatility: 0.10242, Alpha: -0.25907, Beta: 0.64763, Benchmark return rate: -0.00906, Benchmark APR: -0.9639}\n"
     ]
    }
   ],
   "source": [
    "print({k: v for k, v in round_results(performance_metrics(\n",
    "    actuator.account_status_df[\"net_value\"], \n",
    "    benchmark=actuator.account_status_df[\"price\"][\"ETH\"]\n",
    ")).items()})\n"
   ]
  },
  {
   "cell_type": "code",
   "execution_count": 8,
   "metadata": {
    "ExecuteTime": {
     "end_time": "2024-07-22T08:21:35.995764Z",
     "start_time": "2024-07-22T08:21:34.903662Z"
    },
    "collapsed": false
   },
   "outputs": [
    {
     "name": "stderr",
     "output_type": "stream",
     "text": [
      "2024-10-04 19:43:45,755 - INFO - files have saved to ./result/backtest-20241004-194345.account.csv,./result/backtest-20241004-194345.pkl\n"
     ]
    },
    {
     "data": {
      "text/plain": [
       "['./result/backtest-20241004-194345.account.csv',\n",
       " './result/backtest-20241004-194345.pkl']"
      ]
     },
     "execution_count": 8,
     "metadata": {},
     "output_type": "execute_result"
    }
   ],
   "source": [
    "actuator.save_result(\n",
    "    path=\"./result\",  # save path\n",
    "    account=True,  # save account status list as a csv file\n",
    "    actions=True,  # save actions as a json file and a pickle file\n",
    ")"
   ]
  },
  {
   "cell_type": "markdown",
   "metadata": {},
   "source": [
    "### Let's try it with the newer Ethereum data "
   ]
  },
  {
   "cell_type": "code",
   "execution_count": 9,
   "metadata": {},
   "outputs": [],
   "source": [
    "class UniswapV2Strategy(Strategy):\n",
    "    def initialize(self):\n",
    "        \"\"\"\n",
    "        Initialize function will be called right before a backtest start.\n",
    "        You can do various things here, e.g. register a trigger, or add a simple moving average line.\n",
    "        \"\"\"\n",
    "        new_trigger = AtTimeTrigger(  # define a new trigger\n",
    "            time=datetime(2024, 1, 1, 12, 0, 0), do=self.work  # we will make the action happen at 12:00 20/8/22\n",
    "        )  # This is a callback function, defines what to do at this time.\n",
    "        self.triggers.append(new_trigger)  # Register our trigger\n",
    "\n",
    "    def work(self, row_data: RowData):\n",
    "        \"\"\"\n",
    "        When time is up, work function will be called.\n",
    "        \"\"\"\n",
    "        lp_market: UniLpMarket = self.markets[market_key]  # pick our market.\n",
    "        lp_market.add_liquidity_by_tick(-887272, 887272)  # add liquidity\n",
    "        pass"
   ]
  },
  {
   "cell_type": "markdown",
   "metadata": {},
   "source": [
    "Main logic to run Actuator, init two token and market with key \"market1\""
   ]
  },
  {
   "cell_type": "code",
   "execution_count": 13,
   "metadata": {},
   "outputs": [
    {
     "name": "stderr",
     "output_type": "stream",
     "text": [
      "2024-10-04 19:47:53,143 - INFO - start load files from 2024-07-01 to 2024-09-30...\n",
      "2024-10-04 19:47:53,686 - INFO - load file complete, preparing...\n",
      "2024-10-04 19:47:55,016 - INFO - data has been prepared\n"
     ]
    }
   ],
   "source": [
    "# Declare a token, and it's name will be used as unit of amounts.\n",
    "usdc = TokenInfo(name=\"usdc\", decimal=6)  # declare token usdc\n",
    "eth = TokenInfo(name=\"eth\", decimal=18)  # declare token eth\n",
    "# Declare an Uniswap V3 pool. We will set the parameters according to the real pool on chain.\n",
    "pool = UniV3Pool(token0=usdc, token1=eth, fee=0.05, quote_token=usdc)\n",
    "\n",
    "# Declare a market key, which will be used to find the corresponding market in broker\n",
    "\n",
    "# are all of the markets just market1, let's make it clear that we can just name it as we want to\n",
    "market_key = MarketInfo(\"uniswap\")\n",
    "# Declare the market,\n",
    "market = UniLpMarket(market_key, pool)  # uni_market:UniLpMarket, positions: 0, total liquidity: 0\n",
    "# load data for market. those data is prepared by download tool\n",
    "market.data_path = \"/Users/gnapsamuel/Documents/AMM/demeter-fetch/sample-data\"  # set data path\n",
    "market.load_data(\n",
    "    chain=ChainType.ethereum.name,  # load data\n",
    "    contract_addr=\"0x88e6a0c2ddd26feeb64f039a2c41296fcb3f5640\",\n",
    "    start_date=date(2024, 7, 1),\n",
    "    end_date=date(2024, 9, 30),\n",
    ")\n",
    "\n",
    "# Declare the Actuator, which controls the whole process\n",
    "actuator = Actuator()  # declare actuator, Demeter Actuator (broker:assets: ; markets: )\n",
    "# add market to broker\n",
    "actuator.broker.add_market(market)\n",
    "# Initial some fund to broker.\n",
    "actuator.broker.set_balance(usdc, 10000)\n",
    "actuator.broker.set_balance(eth, 10)\n",
    "# Set strategy to actuator\n",
    "actuator.strategy = UniswapV2Strategy()  # set strategy to actuator\n",
    "# Set price. Those price will be used in all markets.\n",
    "# Usually, you will have to find the price list from outer source.\n",
    "# Luckily, uniswap pool data contains price information. So UniLpMarket provides a function to retrieve price list.\n",
    "actuator.set_price(market.get_price_from_data())\n",
    "# run test, If you use default parameter, final fund status will be printed in console.\n",
    "\n",
    "# actuator.run()"
   ]
  },
  {
   "cell_type": "markdown",
   "metadata": {},
   "source": [
    "Run actuator with evaluators and save result to files"
   ]
  },
  {
   "cell_type": "code",
   "execution_count": 17,
   "metadata": {},
   "outputs": [
    {
     "data": {
      "text/html": [
       "<div>\n",
       "<style scoped>\n",
       "    .dataframe tbody tr th:only-of-type {\n",
       "        vertical-align: middle;\n",
       "    }\n",
       "\n",
       "    .dataframe tbody tr th {\n",
       "        vertical-align: top;\n",
       "    }\n",
       "\n",
       "    .dataframe thead tr th {\n",
       "        text-align: left;\n",
       "    }\n",
       "</style>\n",
       "<table border=\"1\" class=\"dataframe\">\n",
       "  <thead>\n",
       "    <tr>\n",
       "      <th>l1</th>\n",
       "      <th>net_value</th>\n",
       "      <th colspan=\"2\" halign=\"left\">tokens</th>\n",
       "      <th colspan=\"6\" halign=\"left\">uniswap</th>\n",
       "      <th colspan=\"2\" halign=\"left\">price</th>\n",
       "    </tr>\n",
       "    <tr>\n",
       "      <th>l2</th>\n",
       "      <th></th>\n",
       "      <th>USDC</th>\n",
       "      <th>ETH</th>\n",
       "      <th>net_value</th>\n",
       "      <th>base_uncollected</th>\n",
       "      <th>quote_uncollected</th>\n",
       "      <th>base_in_position</th>\n",
       "      <th>quote_in_position</th>\n",
       "      <th>position_count</th>\n",
       "      <th>ETH</th>\n",
       "      <th>USDC</th>\n",
       "    </tr>\n",
       "  </thead>\n",
       "  <tbody>\n",
       "    <tr>\n",
       "      <th>2024-07-01 00:00:00</th>\n",
       "      <td>44343.933168532335355692139287799831</td>\n",
       "      <td>10000</td>\n",
       "      <td>10</td>\n",
       "      <td>0E-31</td>\n",
       "      <td>0</td>\n",
       "      <td>0</td>\n",
       "      <td>0</td>\n",
       "      <td>0</td>\n",
       "      <td>0</td>\n",
       "      <td>3434.3933168532335355692139287799831</td>\n",
       "      <td>1</td>\n",
       "    </tr>\n",
       "    <tr>\n",
       "      <th>2024-07-01 00:01:00</th>\n",
       "      <td>44347.367561849188589227708501728644</td>\n",
       "      <td>10000</td>\n",
       "      <td>10</td>\n",
       "      <td>0E-31</td>\n",
       "      <td>0</td>\n",
       "      <td>0</td>\n",
       "      <td>0</td>\n",
       "      <td>0</td>\n",
       "      <td>0</td>\n",
       "      <td>3434.7367561849188589227708501728644</td>\n",
       "      <td>1</td>\n",
       "    </tr>\n",
       "    <tr>\n",
       "      <th>2024-07-01 00:02:00</th>\n",
       "      <td>44343.933168532335355692139287799831</td>\n",
       "      <td>10000</td>\n",
       "      <td>10</td>\n",
       "      <td>0E-31</td>\n",
       "      <td>0</td>\n",
       "      <td>0</td>\n",
       "      <td>0</td>\n",
       "      <td>0</td>\n",
       "      <td>0</td>\n",
       "      <td>3434.3933168532335355692139287799831</td>\n",
       "      <td>1</td>\n",
       "    </tr>\n",
       "    <tr>\n",
       "      <th>2024-07-01 00:03:00</th>\n",
       "      <td>44343.933168532335355692139287799831</td>\n",
       "      <td>10000</td>\n",
       "      <td>10</td>\n",
       "      <td>0E-31</td>\n",
       "      <td>0</td>\n",
       "      <td>0</td>\n",
       "      <td>0</td>\n",
       "      <td>0</td>\n",
       "      <td>0</td>\n",
       "      <td>3434.3933168532335355692139287799831</td>\n",
       "      <td>1</td>\n",
       "    </tr>\n",
       "    <tr>\n",
       "      <th>2024-07-01 00:04:00</th>\n",
       "      <td>44340.499118620473308361303157484093</td>\n",
       "      <td>10000</td>\n",
       "      <td>10</td>\n",
       "      <td>0E-31</td>\n",
       "      <td>0</td>\n",
       "      <td>0</td>\n",
       "      <td>0</td>\n",
       "      <td>0</td>\n",
       "      <td>0</td>\n",
       "      <td>3434.0499118620473308361303157484093</td>\n",
       "      <td>1</td>\n",
       "    </tr>\n",
       "    <tr>\n",
       "      <th>...</th>\n",
       "      <td>...</td>\n",
       "      <td>...</td>\n",
       "      <td>...</td>\n",
       "      <td>...</td>\n",
       "      <td>...</td>\n",
       "      <td>...</td>\n",
       "      <td>...</td>\n",
       "      <td>...</td>\n",
       "      <td>...</td>\n",
       "      <td>...</td>\n",
       "      <td>...</td>\n",
       "    </tr>\n",
       "    <tr>\n",
       "      <th>2024-09-30 23:55:00</th>\n",
       "      <td>35998.511959309477977927709021285664</td>\n",
       "      <td>10000</td>\n",
       "      <td>10</td>\n",
       "      <td>0E-31</td>\n",
       "      <td>0</td>\n",
       "      <td>0</td>\n",
       "      <td>0</td>\n",
       "      <td>0</td>\n",
       "      <td>0</td>\n",
       "      <td>2599.8511959309477977927709021285664</td>\n",
       "      <td>1</td>\n",
       "    </tr>\n",
       "    <tr>\n",
       "      <th>2024-09-30 23:56:00</th>\n",
       "      <td>36024.522173719536614560719791130060</td>\n",
       "      <td>10000</td>\n",
       "      <td>10</td>\n",
       "      <td>0E-31</td>\n",
       "      <td>0</td>\n",
       "      <td>0</td>\n",
       "      <td>0</td>\n",
       "      <td>0</td>\n",
       "      <td>0</td>\n",
       "      <td>2602.4522173719536614560719791130060</td>\n",
       "      <td>1</td>\n",
       "    </tr>\n",
       "    <tr>\n",
       "      <th>2024-09-30 23:57:00</th>\n",
       "      <td>36024.522173719536614560719791130060</td>\n",
       "      <td>10000</td>\n",
       "      <td>10</td>\n",
       "      <td>0E-31</td>\n",
       "      <td>0</td>\n",
       "      <td>0</td>\n",
       "      <td>0</td>\n",
       "      <td>0</td>\n",
       "      <td>0</td>\n",
       "      <td>2602.4522173719536614560719791130060</td>\n",
       "      <td>1</td>\n",
       "    </tr>\n",
       "    <tr>\n",
       "      <th>2024-09-30 23:58:00</th>\n",
       "      <td>36027.124625936908568222175863109178</td>\n",
       "      <td>10000</td>\n",
       "      <td>10</td>\n",
       "      <td>0E-31</td>\n",
       "      <td>0</td>\n",
       "      <td>0</td>\n",
       "      <td>0</td>\n",
       "      <td>0</td>\n",
       "      <td>0</td>\n",
       "      <td>2602.7124625936908568222175863109178</td>\n",
       "      <td>1</td>\n",
       "    </tr>\n",
       "    <tr>\n",
       "      <th>2024-09-30 23:59:00</th>\n",
       "      <td>36027.124625936908568222175863109178</td>\n",
       "      <td>10000</td>\n",
       "      <td>10</td>\n",
       "      <td>0E-31</td>\n",
       "      <td>0</td>\n",
       "      <td>0</td>\n",
       "      <td>0</td>\n",
       "      <td>0</td>\n",
       "      <td>0</td>\n",
       "      <td>2602.7124625936908568222175863109178</td>\n",
       "      <td>1</td>\n",
       "    </tr>\n",
       "  </tbody>\n",
       "</table>\n",
       "<p>132480 rows × 11 columns</p>\n",
       "</div>"
      ],
      "text/plain": [
       "l1                                              net_value tokens       uniswap                                                                                                                      price     \n",
       "l2                                                          USDC ETH net_value base_uncollected quote_uncollected base_in_position quote_in_position position_count                                   ETH USDC\n",
       "2024-07-01 00:00:00  44343.933168532335355692139287799831  10000  10     0E-31                0                 0                0                 0              0  3434.3933168532335355692139287799831    1\n",
       "2024-07-01 00:01:00  44347.367561849188589227708501728644  10000  10     0E-31                0                 0                0                 0              0  3434.7367561849188589227708501728644    1\n",
       "2024-07-01 00:02:00  44343.933168532335355692139287799831  10000  10     0E-31                0                 0                0                 0              0  3434.3933168532335355692139287799831    1\n",
       "2024-07-01 00:03:00  44343.933168532335355692139287799831  10000  10     0E-31                0                 0                0                 0              0  3434.3933168532335355692139287799831    1\n",
       "2024-07-01 00:04:00  44340.499118620473308361303157484093  10000  10     0E-31                0                 0                0                 0              0  3434.0499118620473308361303157484093    1\n",
       "...                                                   ...    ...  ..       ...              ...               ...              ...               ...            ...                                   ...  ...\n",
       "2024-09-30 23:55:00  35998.511959309477977927709021285664  10000  10     0E-31                0                 0                0                 0              0  2599.8511959309477977927709021285664    1\n",
       "2024-09-30 23:56:00  36024.522173719536614560719791130060  10000  10     0E-31                0                 0                0                 0              0  2602.4522173719536614560719791130060    1\n",
       "2024-09-30 23:57:00  36024.522173719536614560719791130060  10000  10     0E-31                0                 0                0                 0              0  2602.4522173719536614560719791130060    1\n",
       "2024-09-30 23:58:00  36027.124625936908568222175863109178  10000  10     0E-31                0                 0                0                 0              0  2602.7124625936908568222175863109178    1\n",
       "2024-09-30 23:59:00  36027.124625936908568222175863109178  10000  10     0E-31                0                 0                0                 0              0  2602.7124625936908568222175863109178    1\n",
       "\n",
       "[132480 rows x 11 columns]"
      ]
     },
     "execution_count": 17,
     "metadata": {},
     "output_type": "execute_result"
    }
   ],
   "source": [
    "actuator.account_status_df"
   ]
  },
  {
   "cell_type": "code",
   "execution_count": 15,
   "metadata": {},
   "outputs": [
    {
     "name": "stderr",
     "output_type": "stream",
     "text": [
      "2024-10-04 19:47:59,098 - INFO - Qute token is USDC\n",
      "2024-10-04 19:47:59,099 - INFO - init strategy...\n",
      "2024-10-04 19:47:59,101 - INFO - start main loop...\n",
      "100%|██████████████████████████████████████████████████████████████████████████████████████████████████████| 132480/132480 [00:11<00:00, 11650.17it/s]\n",
      "2024-10-04 19:48:10,474 - INFO - main loop finished\n",
      "2024-10-04 19:48:11,732 - INFO - Print actuator summary\n",
      "2024-10-04 19:48:11,885 - INFO - Backtesting finished, execute time 12.789311170578003s\n"
     ]
    },
    {
     "name": "stdout",
     "output_type": "stream",
     "text": [
      "\u001b[7;31mFinal account status                              \u001b[0m\n",
      "\u001b[7;35mToken balance in broker       \u001b[0m\n",
      "\u001b[34mUSDC      \u001b[0m:10000                    \u001b[34mETH       \u001b[0m:10                       \n",
      "\u001b[7;35mPosition value in markets     \u001b[0m\n",
      "\u001b[4;33muniswap(UniLpMarket)\u001b[0m\n",
      "\u001b[34mtoken0    \u001b[0m:USDC                     \u001b[34mtoken1    \u001b[0m:ETH                      \u001b[34mfee(%)    \u001b[0m:0.0500                   \u001b[34mquote token\u001b[0m:USDC                     \n",
      "\u001b[34mpositions \u001b[0m\n",
      "Empty DataFrame\n",
      "\n",
      "\n",
      "\u001b[34mQuote by: USDC\u001b[0m\n",
      "\u001b[7;31mAccount balance history                           \u001b[0m\n",
      "l1                  net_value tokens       uniswap                                                                                          price     \n",
      "l2                              USDC ETH net_value base_uncollected quote_uncollected base_in_position quote_in_position position_count       ETH USDC\n",
      "2024-07-01 00:00:00 44343.933  10000  10         0                0                 0                0                 0              0 3434.3933    1\n",
      "2024-07-01 00:01:00 44347.368  10000  10         0                0                 0                0                 0              0 3434.7368    1\n",
      "2024-07-01 00:02:00 44343.933  10000  10         0                0                 0                0                 0              0 3434.3933    1\n",
      "2024-07-01 00:03:00 44343.933  10000  10         0                0                 0                0                 0              0 3434.3933    1\n",
      "2024-07-01 00:04:00 44340.499  10000  10         0                0                 0                0                 0              0 3434.0499    1\n",
      "...                       ...    ...  ..       ...              ...               ...              ...               ...            ...       ...  ...\n",
      "2024-09-30 23:55:00 35998.512  10000  10         0                0                 0                0                 0              0 2599.8512    1\n",
      "2024-09-30 23:56:00 36024.522  10000  10         0                0                 0                0                 0              0 2602.4522    1\n",
      "2024-09-30 23:57:00 36024.522  10000  10         0                0                 0                0                 0              0 2602.4522    1\n",
      "2024-09-30 23:58:00 36027.125  10000  10         0                0                 0                0                 0              0 2602.7125    1\n",
      "2024-09-30 23:59:00 36027.125  10000  10         0                0                 0                0                 0              0 2602.7125    1\n",
      "\n",
      "[132480 rows x 11 columns]\n"
     ]
    }
   ],
   "source": [
    "actuator.run()"
   ]
  },
  {
   "cell_type": "code",
   "execution_count": 16,
   "metadata": {},
   "outputs": [
    {
     "name": "stdout",
     "output_type": "stream",
     "text": [
      "{Start period: Timestamp('2024-07-01 00:00:00'), End period: Timestamp('2024-09-30 23:59:00'), Duration: Timedelta('92 days 00:00:00'), Return: -8316.80854, Rate of Return: -0.18755, APR: -0.56135, Max Draw Down: 0.3209, Sharpe Ratio: -1.21239, Volatility: 0.48775, Alpha: -0.08159, Beta: 0.7191, Benchmark return rate: -0.24216, Benchmark APR: -0.66716}\n"
     ]
    }
   ],
   "source": [
    "print({k: v for k, v in round_results(performance_metrics(\n",
    "    actuator.account_status_df[\"net_value\"], \n",
    "    benchmark=actuator.account_status_df[\"price\"][\"ETH\"]\n",
    ")).items()})\n"
   ]
  },
  {
   "cell_type": "code",
   "execution_count": 18,
   "metadata": {},
   "outputs": [
    {
     "name": "stderr",
     "output_type": "stream",
     "text": [
      "2024-10-04 19:49:45,040 - INFO - files have saved to ./result/backtest-20241004-194944.account.csv,./result/backtest-20241004-194944.pkl\n"
     ]
    },
    {
     "data": {
      "text/plain": [
       "['./result/backtest-20241004-194944.account.csv',\n",
       " './result/backtest-20241004-194944.pkl']"
      ]
     },
     "execution_count": 18,
     "metadata": {},
     "output_type": "execute_result"
    }
   ],
   "source": [
    "actuator.save_result(\n",
    "    path=\"./result\",  # save path\n",
    "    account=True,  # save account status list as a csv file\n",
    "    actions=True,  # save actions as a json file and a pickle file\n",
    ")"
   ]
  },
  {
   "cell_type": "code",
   "execution_count": null,
   "metadata": {},
   "outputs": [],
   "source": []
  }
 ],
 "metadata": {
  "kernelspec": {
   "display_name": "Python 3",
   "language": "python",
   "name": "python3"
  },
  "language_info": {
   "codemirror_mode": {
    "name": "ipython",
    "version": 3
   },
   "file_extension": ".py",
   "mimetype": "text/x-python",
   "name": "python",
   "nbconvert_exporter": "python",
   "pygments_lexer": "ipython3",
   "version": "3.12.4"
  }
 },
 "nbformat": 4,
 "nbformat_minor": 0
}
